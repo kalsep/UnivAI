{
  "metadata": {
    "colab": {
      "name": "LinReg_Homework.ipynb",
      "provenance": []
    },
    "kernelspec": {
      "name": "python3",
      "display_name": "Python 3"
    },
    "language_info": {
      "name": "python"
    }
  },
  "nbformat": 4,
  "nbformat_minor": 0,
  "cells": [
    {
      "cell_type": "markdown",
      "source": [
        "# Homework: Multiple regression and exploring the Football data"
      ],
      "metadata": {
        "id": "gIyk_00BMt_Z"
      }
    },
    {
      "cell_type": "markdown",
      "source": [
        "Let's move on to a truly interesting dataset. The data imported below records various facts about players in the English Premier League. Our goal will be to fit models that predict the players' market value (what the player could earn when hired by a new team).<br>\n",
        "\n",
        "**name**: Name of the player<br>\n",
        "**club**: Club of the player<br>\n",
        "**age**: Age of the player<br>\n",
        "**position** : The usual position on the pitch<br>\n",
        "**position_cat** : 1 for attackers, 2 for midfielders, 3 for defenders, 4 for goalkeepers<br>\n",
        "**market_value** : As on transfermrkt.com on July 20th, 2017<br>\n",
        "**page_views** : Average daily Wikipedia page views from September 1, 2016 to May 1, 2017<br>\n",
        "**fpl_value** : Value in Fantasy Premier League as on July 20th, 2017<br>\n",
        "**fpl_sel**: % of FPL players who have selected that player in their team<br>\n",
        "**fpl_points** : FPL points accumulated over the previous season<br>\n",
        "**region**: 1 for England, 2 for EU, 3 for Americas, 4 for Rest of World<br>\n",
        "**nationality**: Player's nationality<br>\n",
        "**new_foreign**: Whether a new signing from a different league, for 2017/18 (till 20th July)<br>\n",
        "**age_cat**: a categorical version of the Age feature<br>\n",
        "**club_id**: a numerical version of the Club feature<br>\n",
        "**big_club**: Whether one of the Top 6 clubs<br>\n",
        "**new_signing**: Whether a new signing for 2017/18 (till 20th July)<br>"
      ],
      "metadata": {
        "id": "Zk4Y_3G_M9GE"
      }
    },
    {
      "cell_type": "code",
      "execution_count": null,
      "metadata": {
        "id": "qFJF5efhEkbs"
      },
      "outputs": [],
      "source": [
        "import numpy as np\n",
        "import pandas as pd\n",
        "import matplotlib.pyplot as plt\n",
        "\n",
        "from sklearn import preprocessing\n",
        "from sklearn.preprocessing import PolynomialFeatures\n",
        "from sklearn.metrics import r2_score\n",
        "from sklearn.model_selection import train_test_split\n",
        "from sklearn.linear_model import LinearRegression\n",
        "\n",
        "from prettytable import PrettyTable"
      ]
    },
    {
      "cell_type": "code",
      "source": [
        "league_df = pd.read_csv(\"https://raw.githubusercontent.com/univai-ghf/ghfmedia/main/data/Regression/league_data.txt\")\n",
        "print(league_df.dtypes)\n",
        "league_df.head()"
      ],
      "metadata": {
        "id": "cXC2-FAIE0KQ"
      },
      "execution_count": null,
      "outputs": []
    },
    {
      "cell_type": "code",
      "source": [
        "league_df.shape"
      ],
      "metadata": {
        "id": "xQmOoGa5E9Ud"
      },
      "execution_count": null,
      "outputs": []
    },
    {
      "cell_type": "code",
      "source": [
        "league_df.describe()"
      ],
      "metadata": {
        "id": "MBzNTlbQFEj9"
      },
      "execution_count": null,
      "outputs": []
    },
    {
      "cell_type": "markdown",
      "source": [
        "Check for NULL/empty values"
      ],
      "metadata": {
        "id": "Pt3t680jF11V"
      }
    },
    {
      "cell_type": "code",
      "source": [
        "# your code here\n"
      ],
      "metadata": {
        "id": "JLgYCyC3FGKm"
      },
      "execution_count": null,
      "outputs": []
    },
    {
      "cell_type": "markdown",
      "source": [
        "If there are NULL values, deal with it. <br>\n",
        "If the NULL value is Numeric, try replacing the NULL value with Mean/Median of that column/predictor. <br>\n",
        "If the NULL value is Categorical,eliminate that complete row. <br>\n",
        "**Hint:** To eliminate the entire row,you can use the pandas DataFrame dropna(), use the subset argument and select the appropiate column. https://pandas.pydata.org/docs/reference/api/pandas.DataFrame.dropna.html <br>\n",
        "Be sure to check again that the NULL values are dealt with appropiately before moving forward"
      ],
      "metadata": {
        "id": "gFsU644cOvp7"
      }
    },
    {
      "cell_type": "code",
      "source": [
        "# your code here\n"
      ],
      "metadata": {
        "id": "RpKHLltcFQeN"
      },
      "execution_count": null,
      "outputs": []
    },
    {
      "cell_type": "markdown",
      "source": [
        "We want to fit the following model on the football data."
      ],
      "metadata": {
        "id": "HEplU2yjUFqJ"
      }
    },
    {
      "cell_type": "markdown",
      "source": [
        "market_value $\\approx$ $\\beta_{0}$ + $\\beta_{1}$fpl_points + $\\beta_{2}$ age + $\\beta_{3}$ age<sup>2</sup> + $\\beta_{4}log_2$(page_views) + $\\beta_{5}$new_signing + $\\beta_{6}$big_club + $\\beta_{7}$position_cat"
      ],
      "metadata": {
        "id": "SiyVB8RWSSs9"
      }
    },
    {
      "cell_type": "markdown",
      "source": [
        "We're including a 2nd degree polynomial in age because we expect pay to increase as a player gains experience, but then decrease as they continue aging. We're taking the log of page views because they have such a large, skewed range and the transformed variable will have fewer outliers that could bias the line. We choose the base of the log to be 2 just to make interpretation cleaner.\n",
        "\n"
      ],
      "metadata": {
        "id": "Wj4sNFcST-oB"
      }
    },
    {
      "cell_type": "markdown",
      "source": [
        "In the league_df, we need to add 2 more columns: age_squared and log_views<br>\n"
      ],
      "metadata": {
        "id": "7isArmvNUPJ3"
      }
    },
    {
      "cell_type": "code",
      "source": [
        "# your code here\n"
      ],
      "metadata": {
        "id": "2b35GFU6FzMl"
      },
      "execution_count": null,
      "outputs": []
    },
    {
      "cell_type": "markdown",
      "source": [
        "Splitting the Data using train_test_split.<br>\n",
        "We want to make sure that the training and test data have appropriate representation of each region; it would be bad for the training data to entirely miss a region. This is especially important because some regions are rather rare.<br>\n",
        "Thus we make use of stratified sampling based on the region column."
      ],
      "metadata": {
        "id": "Twq3mGUaH5aT"
      }
    },
    {
      "cell_type": "code",
      "source": [
        "train_data, test_data = train_test_split(league_df, test_size = 0.2,stratify=league_df['region'],random_state=42)"
      ],
      "metadata": {
        "id": "8DOaAB2QX-Kw"
      },
      "execution_count": null,
      "outputs": []
    },
    {
      "cell_type": "code",
      "source": [
        "cols=['fpl_points','age','age_squared','log_views','new_signing','big_club','position_cat']"
      ],
      "metadata": {
        "id": "fuzIDFNlIuFx"
      },
      "execution_count": null,
      "outputs": []
    },
    {
      "cell_type": "markdown",
      "source": [
        "Now, with the help of train_data and test_data, you need to create X_train ,y_train , X_test and y_test. Use the cols list to selct the columns in X_train and X_test"
      ],
      "metadata": {
        "id": "IIKQPOUZVDjs"
      }
    },
    {
      "cell_type": "code",
      "source": [
        "# your code here\n"
      ],
      "metadata": {
        "id": "ZaGZGgwh2N_s"
      },
      "execution_count": null,
      "outputs": []
    },
    {
      "cell_type": "markdown",
      "source": [
        "Print the shape for X_train, X_test,y_train, X_test and y_test and y. <br>\n",
        "**Hint**: X_train should be of shape (368,7), X_test should be of shape (92,7) , y_train should be of shape (368,) and y_test should be of shape (92,). <br> If the shapes do not match, you have made some error above please check"
      ],
      "metadata": {
        "id": "GjDftxfuV0ra"
      }
    },
    {
      "cell_type": "code",
      "source": [
        "# your code here\n"
      ],
      "metadata": {
        "id": "Ty08UDMH247e"
      },
      "execution_count": null,
      "outputs": []
    },
    {
      "cell_type": "markdown",
      "source": [
        "Print the head of DataFrame to see if you have selected the correct predictors."
      ],
      "metadata": {
        "id": "uE72fk1uWZ1B"
      }
    },
    {
      "cell_type": "code",
      "source": [
        "# your code here\n"
      ],
      "metadata": {
        "id": "3ZmuS_U-28_A"
      },
      "execution_count": null,
      "outputs": []
    },
    {
      "cell_type": "markdown",
      "source": [
        "Fit the Linear Regression Model on X_train and y_train"
      ],
      "metadata": {
        "id": "GJo5lYsTKCaW"
      }
    },
    {
      "cell_type": "code",
      "source": [
        "# your code here\n"
      ],
      "metadata": {
        "id": "DdJuBd213Wa5"
      },
      "execution_count": null,
      "outputs": []
    },
    {
      "cell_type": "markdown",
      "source": [
        "Print the intercept and Coefficients of the model.(Try using PrettyTable to print the table for better visibility)"
      ],
      "metadata": {
        "id": "ZArUOxTWKMj7"
      }
    },
    {
      "cell_type": "code",
      "source": [
        "# your code here\n"
      ],
      "metadata": {
        "id": "Skh4qKQB3tju"
      },
      "execution_count": null,
      "outputs": []
    },
    {
      "cell_type": "markdown",
      "source": [
        "Print the R<sup>2</sup> score for training and Test Data"
      ],
      "metadata": {
        "id": "zjTdvXAbKxT6"
      }
    },
    {
      "cell_type": "code",
      "source": [
        "# your code here\n"
      ],
      "metadata": {
        "id": "z2I4h0nC4DCd"
      },
      "execution_count": null,
      "outputs": []
    },
    {
      "cell_type": "markdown",
      "source": [
        "We have an error in how we've included player position. Even though the variable is numeric (1,2,3,4) and the model runs without issue, the value we're getting back is garbage. The interpretation, such as it is, is that there is an equal effect of moving from position category 1 to 2, from 2 to 3, and from 3 to 4, and that this effect is about -.73.\n",
        "\n",
        "In reality, we don't expect moving from one position category to another to be equivalent, nor for a move from category 1 to category 3 to be twice as important as a move from category 1 to category 2. We need to introduce better features to model this variable."
      ],
      "metadata": {
        "id": "4-zw8Ui3BgxT"
      }
    },
    {
      "cell_type": "markdown",
      "source": [
        "We can use the get_dummies to One Hot Encode the Position_cat, Remember to do it for both X_train and X_test"
      ],
      "metadata": {
        "id": "4tI9ZaTNB5i4"
      }
    },
    {
      "cell_type": "code",
      "source": [
        "# your code here\n"
      ],
      "metadata": {
        "id": "uIXEVQnL-PMp"
      },
      "execution_count": null,
      "outputs": []
    },
    {
      "cell_type": "markdown",
      "source": [
        "Print out the DataFrames after One hot Encoding"
      ],
      "metadata": {
        "id": "IgGUTPk_CLC2"
      }
    },
    {
      "cell_type": "code",
      "source": [
        "# your code here\n"
      ],
      "metadata": {
        "id": "n0SijF-dAi6o"
      },
      "execution_count": null,
      "outputs": []
    },
    {
      "cell_type": "code",
      "source": [
        "# your code here\n"
      ],
      "metadata": {
        "id": "T5_a6mNPAkyO"
      },
      "execution_count": null,
      "outputs": []
    },
    {
      "cell_type": "markdown",
      "source": [
        "Fit a Linear Regression Model"
      ],
      "metadata": {
        "id": "iBoa_nY2CU_G"
      }
    },
    {
      "cell_type": "code",
      "source": [
        "# your code here\n"
      ],
      "metadata": {
        "id": "8IZmRRPQAoTm"
      },
      "execution_count": null,
      "outputs": []
    },
    {
      "cell_type": "markdown",
      "source": [
        "Print the intercept and Coefficients of the model.(Try using PrettyTable to print the table for better visibility)"
      ],
      "metadata": {
        "id": "U9vjiW82CZfd"
      }
    },
    {
      "cell_type": "code",
      "source": [
        "# your code here\n"
      ],
      "metadata": {
        "id": "TWzykAjZA0j6"
      },
      "execution_count": null,
      "outputs": []
    },
    {
      "cell_type": "markdown",
      "source": [
        "Print the R<sup>2</sup> score for training and Test Data"
      ],
      "metadata": {
        "id": "0_3BZw_JCiqE"
      }
    },
    {
      "cell_type": "code",
      "source": [
        "# your code here\n"
      ],
      "metadata": {
        "id": "CCwqPditA3SA"
      },
      "execution_count": null,
      "outputs": []
    },
    {
      "cell_type": "code",
      "source": [
        ""
      ],
      "metadata": {
        "id": "4rQ5ZNViBLJ_"
      },
      "execution_count": null,
      "outputs": []
    }
  ]
}
{
  "nbformat": 4,
  "nbformat_minor": 0,
  "metadata": {
    "anaconda-cloud": {},
    "kernelspec": {
      "display_name": "ml1-arm64",
      "language": "python",
      "name": "ml1-arm64"
    },
    "language_info": {
      "codemirror_mode": {
        "name": "ipython",
        "version": 3
      },
      "file_extension": ".py",
      "mimetype": "text/x-python",
      "name": "python",
      "nbconvert_exporter": "python",
      "pygments_lexer": "ipython3",
      "version": "3.9.1"
    },
    "nteract": {
      "version": "0.7.1"
    },
    "colab": {
      "name": "LinReg_Workshop_Solutions.ipynb",
      "provenance": []
    }
  },
  "cells": [
    {
      "cell_type": "markdown",
      "metadata": {
        "id": "F-qjsO3-CyTH"
      },
      "source": [
        "# Linear Regression"
      ]
    },
    {
      "cell_type": "markdown",
      "metadata": {
        "id": "RBBWZsb3CyTO"
      },
      "source": [
        "## A.1: Making the data\n",
        "\n",
        "We'll first construct a synthetic data set..using a function from the `scikit-learn` library. Synthetic data is nice in the sense that we can constrain how the noise behaves, and thus isolate effects."
      ]
    },
    {
      "cell_type": "code",
      "metadata": {
        "id": "yDBQLvGDCyTP"
      },
      "source": [
        "%matplotlib inline\n",
        "from sklearn.datasets import make_regression\n",
        "import numpy as np\n",
        "import matplotlib.pyplot as plt"
      ],
      "execution_count": 1,
      "outputs": []
    },
    {
      "cell_type": "markdown",
      "metadata": {
        "id": "SoCW2nSyCyTR"
      },
      "source": [
        "This data is generated from the canonical generating process assumed for linear regression: a gaussian distribution centered at the regression line on the y axis."
      ]
    },
    {
      "cell_type": "code",
      "metadata": {
        "id": "MQ4g4sN9CyTR"
      },
      "source": [
        "#code adapted from http://tillbergmann.com/blog/python-gradient-descent.html\n",
        "X, y, coef = make_regression(n_samples = 100, \n",
        "                       n_features=1, \n",
        "                       noise=20,\n",
        "                       random_state=2017,\n",
        "                       bias=0.0,\n",
        "                       coef=True)"
      ],
      "execution_count": 2,
      "outputs": []
    },
    {
      "cell_type": "markdown",
      "metadata": {
        "id": "Q98EPmtRCyTS"
      },
      "source": [
        "Notice that the X is in the canonical array-of-arrays format.\n",
        "**Try and print its shape**"
      ]
    },
    {
      "cell_type": "code",
      "metadata": {
        "colab": {
          "base_uri": "https://localhost:8080/"
        },
        "id": "iNpyFGTeCyTS",
        "outputId": "7ae89c3b-1750-4515-a4f7-b4522e9c16e5"
      },
      "source": [
        "X.shape, y.shape"
      ],
      "execution_count": 3,
      "outputs": [
        {
          "output_type": "execute_result",
          "data": {
            "text/plain": [
              "((100, 1), (100,))"
            ]
          },
          "metadata": {},
          "execution_count": 3
        }
      ]
    },
    {
      "cell_type": "markdown",
      "metadata": {
        "id": "ij_miKEiCyTU"
      },
      "source": [
        "We are fitting a model with an intercept. Lets see what it is."
      ]
    },
    {
      "cell_type": "code",
      "metadata": {
        "colab": {
          "base_uri": "https://localhost:8080/"
        },
        "id": "5STse-DGCyTU",
        "outputId": "f5a304e0-fff1-43ed-864f-9f3fa561b60b"
      },
      "source": [
        "coef"
      ],
      "execution_count": 4,
      "outputs": [
        {
          "output_type": "execute_result",
          "data": {
            "text/plain": [
              "array(80.88336208)"
            ]
          },
          "metadata": {},
          "execution_count": 4
        }
      ]
    },
    {
      "cell_type": "markdown",
      "metadata": {
        "id": "nRSyktEDCyTV"
      },
      "source": [
        "We can plot the data."
      ]
    },
    {
      "cell_type": "code",
      "metadata": {
        "colab": {
          "base_uri": "https://localhost:8080/",
          "height": 265
        },
        "id": "f34COrzrCyTV",
        "outputId": "a7178fb4-32b0-4ff9-cf14-7d0d7ab95b92"
      },
      "source": [
        "plt.plot(X,y, 'o');"
      ],
      "execution_count": 5,
      "outputs": [
        {
          "output_type": "display_data",
          "data": {
            "image/png": "[encoded data removed]",
            "text/plain": [
              "<Figure size 432x288 with 1 Axes>"
            ]
          },
          "metadata": {
            "needs_background": "light"
          }
        }
      ]
    },
    {
      "cell_type": "markdown",
      "metadata": {
        "id": "BBwzhUNYCyTW"
      },
      "source": [
        "For the purposes of drawing the regression line, lets create a uniform grid of points, and then reshape it into the canonical format"
      ]
    },
    {
      "cell_type": "code",
      "metadata": {
        "id": "jmedjoqJCyTX"
      },
      "source": [
        "xgrid = np.linspace(-2.5,2.5,1000)\n",
        "Xgrid = xgrid.reshape(-1,1)"
      ],
      "execution_count": 6,
      "outputs": []
    },
    {
      "cell_type": "markdown",
      "metadata": {
        "id": "-Qx4TklhCyTY"
      },
      "source": [
        "## A.2: Fit using sklearn"
      ]
    },
    {
      "cell_type": "code",
      "metadata": {
        "id": "ecdZyQdpCyTY"
      },
      "source": [
        "from sklearn.linear_model import LinearRegression"
      ],
      "execution_count": 7,
      "outputs": []
    },
    {
      "cell_type": "code",
      "metadata": {
        "colab": {
          "base_uri": "https://localhost:8080/"
        },
        "id": "NN8FEHXqCyTY",
        "outputId": "528eae34-2a2f-46aa-85af-f3d68c118966"
      },
      "source": [
        "lr = LinearRegression()\n",
        "lr.fit(X,y) # fit the model with the existing data\n",
        "ypgrid = lr.predict(Xgrid) # now predict it on the grid\n",
        "lr.coef_, lr.intercept_ # get the slope and the intercept"
      ],
      "execution_count": 8,
      "outputs": [
        {
          "output_type": "execute_result",
          "data": {
            "text/plain": [
              "(array([82.90456142]), -3.709228868670302)"
            ]
          },
          "metadata": {},
          "execution_count": 8
        }
      ]
    },
    {
      "cell_type": "markdown",
      "metadata": {
        "id": "ihlAru1ACyTY"
      },
      "source": [
        "Notice that the slope and the intercept are not what we fed into the model, but close. This is because the model fitted depends on the exact way points were generated.."
      ]
    },
    {
      "cell_type": "code",
      "metadata": {
        "colab": {
          "base_uri": "https://localhost:8080/",
          "height": 282
        },
        "id": "xThEkz-FCyTZ",
        "outputId": "f6932b23-7426-481c-b254-d05d24389512"
      },
      "source": [
        "plt.plot(Xgrid, ypgrid)\n",
        "plt.plot(X, y, '.')"
      ],
      "execution_count": 9,
      "outputs": [
        {
          "output_type": "execute_result",
          "data": {
            "text/plain": [
              "[<matplotlib.lines.Line2D at 0x7f7db81ad950>]"
            ]
          },
          "metadata": {},
          "execution_count": 9
        },
        {
          "output_type": "display_data",
          "data": {
            "image/png": "[encoded data removed]",
            "text/plain": [
              "<Figure size 432x288 with 1 Axes>"
            ]
          },
          "metadata": {
            "needs_background": "light"
          }
        }
      ]
    },
    {
      "cell_type": "code",
      "metadata": {
        "id": "4vs9Qhf2CyTa"
      },
      "source": [
        "from sklearn.metrics import r2_score"
      ],
      "execution_count": 10,
      "outputs": []
    },
    {
      "cell_type": "code",
      "metadata": {
        "colab": {
          "base_uri": "https://localhost:8080/"
        },
        "id": "HGmhfmAjCyTa",
        "outputId": "3a155377-7bb4-4d2d-f3e3-a6e3e44bbd7c"
      },
      "source": [
        "r2_score(y, lr.predict(X))"
      ],
      "execution_count": 11,
      "outputs": [
        {
          "output_type": "execute_result",
          "data": {
            "text/plain": [
              "0.9342344891672815"
            ]
          },
          "metadata": {},
          "execution_count": 11
        }
      ]
    },
    {
      "cell_type": "markdown",
      "metadata": {
        "id": "BeErYPb9CyTi"
      },
      "source": [
        "## A.3: Train vs Test Split\n",
        "\n",
        "A grid like the one we created might contain some of the points we fit this model on. This is called **Data Contamination** and is a big no-no. If we want an independent estimate of the error, we should hold out some points in a test set. Then we want to guarantee that there is no overlap between the initial sample, or **training set**, and the test set."
      ]
    },
    {
      "cell_type": "code",
      "metadata": {
        "id": "vxJH20BmCyTi"
      },
      "source": [
        "from sklearn.model_selection import train_test_split"
      ],
      "execution_count": 12,
      "outputs": []
    },
    {
      "cell_type": "code",
      "metadata": {
        "id": "ZBRKTAcGCyTi"
      },
      "source": [
        "Xtrain, Xtest, ytrain, ytest = train_test_split(X, y, test_size=0.2, random_state=2022)"
      ],
      "execution_count": 13,
      "outputs": []
    },
    {
      "cell_type": "markdown",
      "metadata": {
        "id": "ASm-rgK_CyTi"
      },
      "source": [
        "Now lets fit the model on the training set and evaluate it both on the training set and the test set. We print the R^2"
      ]
    },
    {
      "cell_type": "code",
      "metadata": {
        "id": "1IqnGc1iCyTi"
      },
      "source": [
        "lr2 = LinearRegression().fit(Xtrain, ytrain)\n",
        "r2_test = r2_score(ytest, lr2.predict(Xtest))\n",
        "r2_train = r2_score(ytrain, lr2.predict(Xtrain))"
      ],
      "execution_count": 14,
      "outputs": []
    },
    {
      "cell_type": "code",
      "metadata": {
        "colab": {
          "base_uri": "https://localhost:8080/",
          "height": 35
        },
        "id": "x_tnvbNfCyTj",
        "outputId": "45f3296b-eaea-494b-e147-f9b24240420e"
      },
      "source": [
        "\"Train R2 is {}, while test R^2 is {}\".format(r2_train, r2_test)"
      ],
      "execution_count": 15,
      "outputs": [
        {
          "output_type": "execute_result",
          "data": {
            "application/vnd.google.colaboratory.intrinsic+json": {
              "type": "string"
            },
            "text/plain": [
              "'Train R2 is 0.9340719025066724, while test R^2 is 0.9312454821103248'"
            ]
          },
          "metadata": {},
          "execution_count": 15
        }
      ]
    },
    {
      "cell_type": "markdown",
      "source": [
        "## B: Multi-Linear Regression on the ads dataset\n",
        "\n",
        "Let us first import the dataset."
      ],
      "metadata": {
        "id": "Xf-rHnL6ja2d"
      }
    },
    {
      "cell_type": "code",
      "source": [
        "#import necessary libraries\n",
        "import pandas as pd\n",
        "from sklearn import preprocessing\n",
        "from prettytable import PrettyTable"
      ],
      "metadata": {
        "id": "ba96mvWAj3ri"
      },
      "execution_count": 16,
      "outputs": []
    },
    {
      "cell_type": "markdown",
      "source": [
        "Reading the dataset:"
      ],
      "metadata": {
        "id": "m0jllfBOkmrP"
      }
    },
    {
      "cell_type": "code",
      "source": [
        "#Read the file \"Advertising.csv\"\n",
        "df = pd.read_csv(\"https://raw.githubusercontent.com/univai-ghf/ghfmedia/main/data/Regression/Advertising.csv\")"
      ],
      "metadata": {
        "id": "Ehya3zXikoiK"
      },
      "execution_count": 17,
      "outputs": []
    },
    {
      "cell_type": "code",
      "source": [
        "#Take a quick look at the data to list all the predictors\n",
        "df.head()"
      ],
      "metadata": {
        "id": "97Yx7jSJkp69",
        "colab": {
          "base_uri": "https://localhost:8080/",
          "height": 206
        },
        "outputId": "bea58cd5-fb27-446c-9af9-34df574d9532"
      },
      "execution_count": 18,
      "outputs": [
        {
          "output_type": "execute_result",
          "data": {
            "text/html": [
              "\n",
              "  <div id=\"df-da1680bd-30fa-4581-9567-ab099e0512ac\">\n",
              "    <div class=\"colab-df-container\">\n",
              "      <div>\n",
              "<style scoped>\n",
              "    .dataframe tbody tr th:only-of-type {\n",
              "        vertical-align: middle;\n",
              "    }\n",
              "\n",
              "    .dataframe tbody tr th {\n",
              "        vertical-align: top;\n",
              "    }\n",
              "\n",
              "    .dataframe thead th {\n",
              "        text-align: right;\n",
              "    }\n",
              "</style>\n",
              "<table border=\"1\" class=\"dataframe\">\n",
              "  <thead>\n",
              "    <tr style=\"text-align: right;\">\n",
              "      <th></th>\n",
              "      <th>TV</th>\n",
              "      <th>Radio</th>\n",
              "      <th>Newspaper</th>\n",
              "      <th>Sales</th>\n",
              "    </tr>\n",
              "  </thead>\n",
              "  <tbody>\n",
              "    <tr>\n",
              "      <th>0</th>\n",
              "      <td>230.1</td>\n",
              "      <td>37.8</td>\n",
              "      <td>69.2</td>\n",
              "      <td>22.1</td>\n",
              "    </tr>\n",
              "    <tr>\n",
              "      <th>1</th>\n",
              "      <td>44.5</td>\n",
              "      <td>39.3</td>\n",
              "      <td>45.1</td>\n",
              "      <td>10.4</td>\n",
              "    </tr>\n",
              "    <tr>\n",
              "      <th>2</th>\n",
              "      <td>17.2</td>\n",
              "      <td>45.9</td>\n",
              "      <td>69.3</td>\n",
              "      <td>9.3</td>\n",
              "    </tr>\n",
              "    <tr>\n",
              "      <th>3</th>\n",
              "      <td>151.5</td>\n",
              "      <td>41.3</td>\n",
              "      <td>58.5</td>\n",
              "      <td>18.5</td>\n",
              "    </tr>\n",
              "    <tr>\n",
              "      <th>4</th>\n",
              "      <td>180.8</td>\n",
              "      <td>10.8</td>\n",
              "      <td>58.4</td>\n",
              "      <td>12.9</td>\n",
              "    </tr>\n",
              "  </tbody>\n",
              "</table>\n",
              "</div>\n",
              "      <button class=\"colab-df-convert\" onclick=\"convertToInteractive('df-da1680bd-30fa-4581-9567-ab099e0512ac')\"\n",
              "              title=\"Convert this dataframe to an interactive table.\"\n",
              "              style=\"display:none;\">\n",
              "        \n",
              "  <svg xmlns=\"http://www.w3.org/2000/svg\" height=\"24px\"viewBox=\"0 0 24 24\"\n",
              "       width=\"24px\">\n",
              "    <path d=\"M0 0h24v24H0V0z\" fill=\"none\"/>\n",
              "    <path d=\"M18.56 5.44l.94 2.06.94-2.06 2.06-.94-2.06-.94-.94-2.06-.94 2.06-2.06.94zm-11 1L8.5 8.5l.94-2.06 2.06-.94-2.06-.94L8.5 2.5l-.94 2.06-2.06.94zm10 10l.94 2.06.94-2.06 2.06-.94-2.06-.94-.94-2.06-.94 2.06-2.06.94z\"/><path d=\"M17.41 7.96l-1.37-1.37c-.4-.4-.92-.59-1.43-.59-.52 0-1.04.2-1.43.59L10.3 9.45l-7.72 7.72c-.78.78-.78 2.05 0 2.83L4 21.41c.39.39.9.59 1.41.59.51 0 1.02-.2 1.41-.59l7.78-7.78 2.81-2.81c.8-.78.8-2.07 0-2.86zM5.41 20L4 18.59l7.72-7.72 1.47 1.35L5.41 20z\"/>\n",
              "  </svg>\n",
              "      </button>\n",
              "      \n",
              "  <style>\n",
              "    .colab-df-container {\n",
              "      display:flex;\n",
              "      flex-wrap:wrap;\n",
              "      gap: 12px;\n",
              "    }\n",
              "\n",
              "    .colab-df-convert {\n",
              "      background-color: #E8F0FE;\n",
              "      border: none;\n",
              "      border-radius: 50%;\n",
              "      cursor: pointer;\n",
              "      display: none;\n",
              "      fill: #1967D2;\n",
              "      height: 32px;\n",
              "      padding: 0 0 0 0;\n",
              "      width: 32px;\n",
              "    }\n",
              "\n",
              "    .colab-df-convert:hover {\n",
              "      background-color: #E2EBFA;\n",
              "      box-shadow: 0px 1px 2px rgba(60, 64, 67, 0.3), 0px 1px 3px 1px rgba(60, 64, 67, 0.15);\n",
              "      fill: #174EA6;\n",
              "    }\n",
              "\n",
              "    [theme=dark] .colab-df-convert {\n",
              "      background-color: #3B4455;\n",
              "      fill: #D2E3FC;\n",
              "    }\n",
              "\n",
              "    [theme=dark] .colab-df-convert:hover {\n",
              "      background-color: #434B5C;\n",
              "      box-shadow: 0px 1px 3px 1px rgba(0, 0, 0, 0.15);\n",
              "      filter: drop-shadow(0px 1px 2px rgba(0, 0, 0, 0.3));\n",
              "      fill: #FFFFFF;\n",
              "    }\n",
              "  </style>\n",
              "\n",
              "      <script>\n",
              "        const buttonEl =\n",
              "          document.querySelector('#df-da1680bd-30fa-4581-9567-ab099e0512ac button.colab-df-convert');\n",
              "        buttonEl.style.display =\n",
              "          google.colab.kernel.accessAllowed ? 'block' : 'none';\n",
              "\n",
              "        async function convertToInteractive(key) {\n",
              "          const element = document.querySelector('#df-da1680bd-30fa-4581-9567-ab099e0512ac');\n",
              "          const dataTable =\n",
              "            await google.colab.kernel.invokeFunction('convertToInteractive',\n",
              "                                                     [key], {});\n",
              "          if (!dataTable) return;\n",
              "\n",
              "          const docLinkHtml = 'Like what you see? Visit the ' +\n",
              "            '<a target=\"_blank\" href=https://colab.research.google.com/notebooks/data_table.ipynb>data table notebook</a>'\n",
              "            + ' to learn more about interactive tables.';\n",
              "          element.innerHTML = '';\n",
              "          dataTable['output_type'] = 'display_data';\n",
              "          await google.colab.output.renderOutput(dataTable, element);\n",
              "          const docLink = document.createElement('div');\n",
              "          docLink.innerHTML = docLinkHtml;\n",
              "          element.appendChild(docLink);\n",
              "        }\n",
              "      </script>\n",
              "    </div>\n",
              "  </div>\n",
              "  "
            ],
            "text/plain": [
              "      TV  Radio  Newspaper  Sales\n",
              "0  230.1   37.8       69.2   22.1\n",
              "1   44.5   39.3       45.1   10.4\n",
              "2   17.2   45.9       69.3    9.3\n",
              "3  151.5   41.3       58.5   18.5\n",
              "4  180.8   10.8       58.4   12.9"
            ]
          },
          "metadata": {},
          "execution_count": 18
        }
      ]
    },
    {
      "cell_type": "markdown",
      "source": [
        "Let us now run multi-linear regression with Sales as the reponse variable Y. We will actually do so for all possible sets of predictor variables: from only considering individual TV, Radio, Newspaper values to all of them taken together. This is to illustrate how our R2 scores can change based on how many predictor variables we have."
      ],
      "metadata": {
        "id": "M6tugSoeqafn"
      }
    },
    {
      "cell_type": "code",
      "source": [
        "#List to store the r2score values\n",
        "r2_list = []\n",
        "\n",
        "#List of all predictor combinations to fit the curve\n",
        "cols = [['TV'],['Radio'],['Newspaper'],['TV','Radio'],['TV','Newspaper'],['Radio','Newspaper'],['TV','Radio','Newspaper']]\n",
        "\n",
        "for i in cols:\n",
        "    #Set each of the predictors from the previous list as x\n",
        "    x_ads = df[i].to_numpy()\n",
        "    \n",
        "    \n",
        "    #\"Sales\" column is the reponse variable\n",
        "    y_ads = df[\"Sales\"].to_numpy()\n",
        "    \n",
        "   \n",
        "    #Splitting the data into train-test sets with 80% training data and 20% testing data. \n",
        "    #Set random_state as 0\n",
        "    x_train, x_test, y_train, y_test = train_test_split(x_ads, y_ads, test_size=0.2, random_state=2022)\n",
        "\n",
        "    #Create a LinearRegression object and fit the model\n",
        "    lr3 = LinearRegression()\n",
        "    lr3 = LinearRegression().fit(x_train, y_train) # fit the model on train data\n",
        "    r2_test = r2_score(y_test, lr3.predict(x_test)) # compute the score on test data\n",
        "    \n",
        "    #Append the R2Score to the list\n",
        "    r2_list.append(r2_test)\n"
      ],
      "metadata": {
        "id": "Ds0FbCcwmNy5"
      },
      "execution_count": 19,
      "outputs": []
    },
    {
      "cell_type": "code",
      "source": [
        "t = PrettyTable(['Predictors', 'R2Scores'])\n",
        "\n",
        "#Loop to display the predictor combinations along with the R2 score of the corresponding model\n",
        "for i in range(len(r2_list)):\n",
        "    t.add_row([cols[i],r2_list[i]])\n",
        "print(t)"
      ],
      "metadata": {
        "id": "9-wMJzOTnsfa",
        "colab": {
          "base_uri": "https://localhost:8080/"
        },
        "outputId": "c29502e1-8ed1-47e0-d2ed-a591e852f446"
      },
      "execution_count": 20,
      "outputs": [
        {
          "output_type": "stream",
          "name": "stdout",
          "text": [
            "+------------------------------+----------------------+\n",
            "|          Predictors          |       R2Scores       |\n",
            "+------------------------------+----------------------+\n",
            "|            ['TV']            |  0.6786607113562172  |\n",
            "|          ['Radio']           |  0.4284862513631944  |\n",
            "|        ['Newspaper']         | 0.052602982349486016 |\n",
            "|       ['TV', 'Radio']        |  0.9442095799466792  |\n",
            "|     ['TV', 'Newspaper']      |  0.7000430939023141  |\n",
            "|    ['Radio', 'Newspaper']    |  0.4288348868829509  |\n",
            "| ['TV', 'Radio', 'Newspaper'] |  0.944243563428613   |\n",
            "+------------------------------+----------------------+\n"
          ]
        }
      ]
    },
    {
      "cell_type": "markdown",
      "source": [
        "## C: Multilinear regression on California Housing Dataset\n",
        "\n"
      ],
      "metadata": {
        "id": "5ChqSkQXy3mj"
      }
    },
    {
      "cell_type": "markdown",
      "source": [
        "####The California Housing Dataset consists of the following columns"
      ],
      "metadata": {
        "id": "RqIWcrNYVVAH"
      }
    },
    {
      "cell_type": "markdown",
      "source": [
        "1. **longitude**: A measure of how far west a house is; a higher value is farther west\n",
        "\n",
        "2. **latitude**: A measure of how far north a house is; a higher value is farther north\n",
        "\n",
        "3. **housingMedianAge**: Median age of a house within a block; a lower number is a newer building\n",
        "\n",
        "4. **totalRooms**: Total number of rooms within a block\n",
        "\n",
        "5. **totalBedrooms**: Total number of bedrooms within a block\n",
        "\n",
        "6. **population**: Total number of people residing within a block\n",
        "\n",
        "7. **households**: Total number of households, a group of people residing within a home unit, for a block\n",
        "\n",
        "8. **medianIncome**: Median income for households within a block of houses (measured in tens of thousands of US Dollars)\n",
        "\n",
        "9. **medianHouseValue**: Median house value for households within a block (measured in US Dollars)\n",
        "\n",
        "10. **oceanProximity**: Location of the house w.r.t ocean/sea"
      ],
      "metadata": {
        "id": "8PQx3I1SVBrK"
      }
    },
    {
      "cell_type": "markdown",
      "source": [
        "Reading the dataset:"
      ],
      "metadata": {
        "id": "F7asdBDow7uw"
      }
    },
    {
      "cell_type": "code",
      "source": [
        "#Read the file \"housing.csv\"\n",
        "df_housing = pd.read_csv(\"https://raw.githubusercontent.com/univai-ghf/ghfmedia/main/data/Regression/housing.csv\")"
      ],
      "metadata": {
        "id": "rUD1njwJcdPs"
      },
      "execution_count": 21,
      "outputs": []
    },
    {
      "cell_type": "code",
      "source": [
        "#Take a quick look at the data to list all the predictors\n",
        "df_housing.head()"
      ],
      "metadata": {
        "id": "CkZnTLn9c812",
        "colab": {
          "base_uri": "https://localhost:8080/",
          "height": 206
        },
        "outputId": "c7c7dfeb-48b3-4db4-9a4d-a22dc2ba3ae2"
      },
      "execution_count": 22,
      "outputs": [
        {
          "output_type": "execute_result",
          "data": {
            "text/html": [
              "\n",
              "  <div id=\"df-2327005d-fc94-4791-9440-3520d328c34c\">\n",
              "    <div class=\"colab-df-container\">\n",
              "      <div>\n",
              "<style scoped>\n",
              "    .dataframe tbody tr th:only-of-type {\n",
              "        vertical-align: middle;\n",
              "    }\n",
              "\n",
              "    .dataframe tbody tr th {\n",
              "        vertical-align: top;\n",
              "    }\n",
              "\n",
              "    .dataframe thead th {\n",
              "        text-align: right;\n",
              "    }\n",
              "</style>\n",
              "<table border=\"1\" class=\"dataframe\">\n",
              "  <thead>\n",
              "    <tr style=\"text-align: right;\">\n",
              "      <th></th>\n",
              "      <th>longitude</th>\n",
              "      <th>latitude</th>\n",
              "      <th>housing_median_age</th>\n",
              "      <th>total_rooms</th>\n",
              "      <th>total_bedrooms</th>\n",
              "      <th>population</th>\n",
              "      <th>households</th>\n",
              "      <th>median_income</th>\n",
              "      <th>median_house_value</th>\n",
              "      <th>ocean_proximity</th>\n",
              "    </tr>\n",
              "  </thead>\n",
              "  <tbody>\n",
              "    <tr>\n",
              "      <th>0</th>\n",
              "      <td>-122.23</td>\n",
              "      <td>37.88</td>\n",
              "      <td>41.0</td>\n",
              "      <td>880.0</td>\n",
              "      <td>129.0</td>\n",
              "      <td>322.0</td>\n",
              "      <td>126.0</td>\n",
              "      <td>8.3252</td>\n",
              "      <td>452600.0</td>\n",
              "      <td>NEAR BAY</td>\n",
              "    </tr>\n",
              "    <tr>\n",
              "      <th>1</th>\n",
              "      <td>-122.22</td>\n",
              "      <td>37.86</td>\n",
              "      <td>21.0</td>\n",
              "      <td>7099.0</td>\n",
              "      <td>1106.0</td>\n",
              "      <td>2401.0</td>\n",
              "      <td>1138.0</td>\n",
              "      <td>8.3014</td>\n",
              "      <td>358500.0</td>\n",
              "      <td>NEAR BAY</td>\n",
              "    </tr>\n",
              "    <tr>\n",
              "      <th>2</th>\n",
              "      <td>-122.24</td>\n",
              "      <td>37.85</td>\n",
              "      <td>52.0</td>\n",
              "      <td>1467.0</td>\n",
              "      <td>190.0</td>\n",
              "      <td>496.0</td>\n",
              "      <td>177.0</td>\n",
              "      <td>7.2574</td>\n",
              "      <td>352100.0</td>\n",
              "      <td>NEAR BAY</td>\n",
              "    </tr>\n",
              "    <tr>\n",
              "      <th>3</th>\n",
              "      <td>-122.25</td>\n",
              "      <td>37.85</td>\n",
              "      <td>52.0</td>\n",
              "      <td>1274.0</td>\n",
              "      <td>235.0</td>\n",
              "      <td>558.0</td>\n",
              "      <td>219.0</td>\n",
              "      <td>5.6431</td>\n",
              "      <td>341300.0</td>\n",
              "      <td>NEAR BAY</td>\n",
              "    </tr>\n",
              "    <tr>\n",
              "      <th>4</th>\n",
              "      <td>-122.25</td>\n",
              "      <td>37.85</td>\n",
              "      <td>52.0</td>\n",
              "      <td>1627.0</td>\n",
              "      <td>280.0</td>\n",
              "      <td>565.0</td>\n",
              "      <td>259.0</td>\n",
              "      <td>3.8462</td>\n",
              "      <td>342200.0</td>\n",
              "      <td>NEAR BAY</td>\n",
              "    </tr>\n",
              "  </tbody>\n",
              "</table>\n",
              "</div>\n",
              "      <button class=\"colab-df-convert\" onclick=\"convertToInteractive('df-2327005d-fc94-4791-9440-3520d328c34c')\"\n",
              "              title=\"Convert this dataframe to an interactive table.\"\n",
              "              style=\"display:none;\">\n",
              "        \n",
              "  <svg xmlns=\"http://www.w3.org/2000/svg\" height=\"24px\"viewBox=\"0 0 24 24\"\n",
              "       width=\"24px\">\n",
              "    <path d=\"M0 0h24v24H0V0z\" fill=\"none\"/>\n",
              "    <path d=\"M18.56 5.44l.94 2.06.94-2.06 2.06-.94-2.06-.94-.94-2.06-.94 2.06-2.06.94zm-11 1L8.5 8.5l.94-2.06 2.06-.94-2.06-.94L8.5 2.5l-.94 2.06-2.06.94zm10 10l.94 2.06.94-2.06 2.06-.94-2.06-.94-.94-2.06-.94 2.06-2.06.94z\"/><path d=\"M17.41 7.96l-1.37-1.37c-.4-.4-.92-.59-1.43-.59-.52 0-1.04.2-1.43.59L10.3 9.45l-7.72 7.72c-.78.78-.78 2.05 0 2.83L4 21.41c.39.39.9.59 1.41.59.51 0 1.02-.2 1.41-.59l7.78-7.78 2.81-2.81c.8-.78.8-2.07 0-2.86zM5.41 20L4 18.59l7.72-7.72 1.47 1.35L5.41 20z\"/>\n",
              "  </svg>\n",
              "      </button>\n",
              "      \n",
              "  <style>\n",
              "    .colab-df-container {\n",
              "      display:flex;\n",
              "      flex-wrap:wrap;\n",
              "      gap: 12px;\n",
              "    }\n",
              "\n",
              "    .colab-df-convert {\n",
              "      background-color: #E8F0FE;\n",
              "      border: none;\n",
              "      border-radius: 50%;\n",
              "      cursor: pointer;\n",
              "      display: none;\n",
              "      fill: #1967D2;\n",
              "      height: 32px;\n",
              "      padding: 0 0 0 0;\n",
              "      width: 32px;\n",
              "    }\n",
              "\n",
              "    .colab-df-convert:hover {\n",
              "      background-color: #E2EBFA;\n",
              "      box-shadow: 0px 1px 2px rgba(60, 64, 67, 0.3), 0px 1px 3px 1px rgba(60, 64, 67, 0.15);\n",
              "      fill: #174EA6;\n",
              "    }\n",
              "\n",
              "    [theme=dark] .colab-df-convert {\n",
              "      background-color: #3B4455;\n",
              "      fill: #D2E3FC;\n",
              "    }\n",
              "\n",
              "    [theme=dark] .colab-df-convert:hover {\n",
              "      background-color: #434B5C;\n",
              "      box-shadow: 0px 1px 3px 1px rgba(0, 0, 0, 0.15);\n",
              "      filter: drop-shadow(0px 1px 2px rgba(0, 0, 0, 0.3));\n",
              "      fill: #FFFFFF;\n",
              "    }\n",
              "  </style>\n",
              "\n",
              "      <script>\n",
              "        const buttonEl =\n",
              "          document.querySelector('#df-2327005d-fc94-4791-9440-3520d328c34c button.colab-df-convert');\n",
              "        buttonEl.style.display =\n",
              "          google.colab.kernel.accessAllowed ? 'block' : 'none';\n",
              "\n",
              "        async function convertToInteractive(key) {\n",
              "          const element = document.querySelector('#df-2327005d-fc94-4791-9440-3520d328c34c');\n",
              "          const dataTable =\n",
              "            await google.colab.kernel.invokeFunction('convertToInteractive',\n",
              "                                                     [key], {});\n",
              "          if (!dataTable) return;\n",
              "\n",
              "          const docLinkHtml = 'Like what you see? Visit the ' +\n",
              "            '<a target=\"_blank\" href=https://colab.research.google.com/notebooks/data_table.ipynb>data table notebook</a>'\n",
              "            + ' to learn more about interactive tables.';\n",
              "          element.innerHTML = '';\n",
              "          dataTable['output_type'] = 'display_data';\n",
              "          await google.colab.output.renderOutput(dataTable, element);\n",
              "          const docLink = document.createElement('div');\n",
              "          docLink.innerHTML = docLinkHtml;\n",
              "          element.appendChild(docLink);\n",
              "        }\n",
              "      </script>\n",
              "    </div>\n",
              "  </div>\n",
              "  "
            ],
            "text/plain": [
              "   longitude  latitude  ...  median_house_value  ocean_proximity\n",
              "0    -122.23     37.88  ...            452600.0         NEAR BAY\n",
              "1    -122.22     37.86  ...            358500.0         NEAR BAY\n",
              "2    -122.24     37.85  ...            352100.0         NEAR BAY\n",
              "3    -122.25     37.85  ...            341300.0         NEAR BAY\n",
              "4    -122.25     37.85  ...            342200.0         NEAR BAY\n",
              "\n",
              "[5 rows x 10 columns]"
            ]
          },
          "metadata": {},
          "execution_count": 22
        }
      ]
    },
    {
      "cell_type": "code",
      "source": [
        "#Take a quick look at the datatypes of the predicators\n",
        "df_housing.dtypes"
      ],
      "metadata": {
        "id": "8M4qMTbXc8r4",
        "colab": {
          "base_uri": "https://localhost:8080/"
        },
        "outputId": "fee189d1-40c8-4a96-e573-f04a8764b1d0"
      },
      "execution_count": 23,
      "outputs": [
        {
          "output_type": "execute_result",
          "data": {
            "text/plain": [
              "longitude             float64\n",
              "latitude              float64\n",
              "housing_median_age    float64\n",
              "total_rooms           float64\n",
              "total_bedrooms        float64\n",
              "population            float64\n",
              "households            float64\n",
              "median_income         float64\n",
              "median_house_value    float64\n",
              "ocean_proximity        object\n",
              "dtype: object"
            ]
          },
          "metadata": {},
          "execution_count": 23
        }
      ]
    },
    {
      "cell_type": "markdown",
      "source": [
        "Checking for Null/Empty Values:"
      ],
      "metadata": {
        "id": "lFXVxf1Mxsj7"
      }
    },
    {
      "cell_type": "code",
      "source": [
        "# isnull() function returns True if that element is missing in the dataframe, False otherwise\n",
        "df_housing.isnull()"
      ],
      "metadata": {
        "id": "OyI6mdelgxYE",
        "colab": {
          "base_uri": "https://localhost:8080/",
          "height": 423
        },
        "outputId": "2dab19a4-8ad7-4cd8-8dca-e0d37ce5ea4f"
      },
      "execution_count": 24,
      "outputs": [
        {
          "output_type": "execute_result",
          "data": {
            "text/html": [
              "\n",
              "  <div id=\"df-5cbdde60-ac30-4048-949a-962ad6ccaa41\">\n",
              "    <div class=\"colab-df-container\">\n",
              "      <div>\n",
              "<style scoped>\n",
              "    .dataframe tbody tr th:only-of-type {\n",
              "        vertical-align: middle;\n",
              "    }\n",
              "\n",
              "    .dataframe tbody tr th {\n",
              "        vertical-align: top;\n",
              "    }\n",
              "\n",
              "    .dataframe thead th {\n",
              "        text-align: right;\n",
              "    }\n",
              "</style>\n",
              "<table border=\"1\" class=\"dataframe\">\n",
              "  <thead>\n",
              "    <tr style=\"text-align: right;\">\n",
              "      <th></th>\n",
              "      <th>longitude</th>\n",
              "      <th>latitude</th>\n",
              "      <th>housing_median_age</th>\n",
              "      <th>total_rooms</th>\n",
              "      <th>total_bedrooms</th>\n",
              "      <th>population</th>\n",
              "      <th>households</th>\n",
              "      <th>median_income</th>\n",
              "      <th>median_house_value</th>\n",
              "      <th>ocean_proximity</th>\n",
              "    </tr>\n",
              "  </thead>\n",
              "  <tbody>\n",
              "    <tr>\n",
              "      <th>0</th>\n",
              "      <td>False</td>\n",
              "      <td>False</td>\n",
              "      <td>False</td>\n",
              "      <td>False</td>\n",
              "      <td>False</td>\n",
              "      <td>False</td>\n",
              "      <td>False</td>\n",
              "      <td>False</td>\n",
              "      <td>False</td>\n",
              "      <td>False</td>\n",
              "    </tr>\n",
              "    <tr>\n",
              "      <th>1</th>\n",
              "      <td>False</td>\n",
              "      <td>False</td>\n",
              "      <td>False</td>\n",
              "      <td>False</td>\n",
              "      <td>False</td>\n",
              "      <td>False</td>\n",
              "      <td>False</td>\n",
              "      <td>False</td>\n",
              "      <td>False</td>\n",
              "      <td>False</td>\n",
              "    </tr>\n",
              "    <tr>\n",
              "      <th>2</th>\n",
              "      <td>False</td>\n",
              "      <td>False</td>\n",
              "      <td>False</td>\n",
              "      <td>False</td>\n",
              "      <td>False</td>\n",
              "      <td>False</td>\n",
              "      <td>False</td>\n",
              "      <td>False</td>\n",
              "      <td>False</td>\n",
              "      <td>False</td>\n",
              "    </tr>\n",
              "    <tr>\n",
              "      <th>3</th>\n",
              "      <td>False</td>\n",
              "      <td>False</td>\n",
              "      <td>False</td>\n",
              "      <td>False</td>\n",
              "      <td>False</td>\n",
              "      <td>False</td>\n",
              "      <td>False</td>\n",
              "      <td>False</td>\n",
              "      <td>False</td>\n",
              "      <td>False</td>\n",
              "    </tr>\n",
              "    <tr>\n",
              "      <th>4</th>\n",
              "      <td>False</td>\n",
              "      <td>False</td>\n",
              "      <td>False</td>\n",
              "      <td>False</td>\n",
              "      <td>False</td>\n",
              "      <td>False</td>\n",
              "      <td>False</td>\n",
              "      <td>False</td>\n",
              "      <td>False</td>\n",
              "      <td>False</td>\n",
              "    </tr>\n",
              "    <tr>\n",
              "      <th>...</th>\n",
              "      <td>...</td>\n",
              "      <td>...</td>\n",
              "      <td>...</td>\n",
              "      <td>...</td>\n",
              "      <td>...</td>\n",
              "      <td>...</td>\n",
              "      <td>...</td>\n",
              "      <td>...</td>\n",
              "      <td>...</td>\n",
              "      <td>...</td>\n",
              "    </tr>\n",
              "    <tr>\n",
              "      <th>20635</th>\n",
              "      <td>False</td>\n",
              "      <td>False</td>\n",
              "      <td>False</td>\n",
              "      <td>False</td>\n",
              "      <td>False</td>\n",
              "      <td>False</td>\n",
              "      <td>False</td>\n",
              "      <td>False</td>\n",
              "      <td>False</td>\n",
              "      <td>False</td>\n",
              "    </tr>\n",
              "    <tr>\n",
              "      <th>20636</th>\n",
              "      <td>False</td>\n",
              "      <td>False</td>\n",
              "      <td>False</td>\n",
              "      <td>False</td>\n",
              "      <td>False</td>\n",
              "      <td>False</td>\n",
              "      <td>False</td>\n",
              "      <td>False</td>\n",
              "      <td>False</td>\n",
              "      <td>False</td>\n",
              "    </tr>\n",
              "    <tr>\n",
              "      <th>20637</th>\n",
              "      <td>False</td>\n",
              "      <td>False</td>\n",
              "      <td>False</td>\n",
              "      <td>False</td>\n",
              "      <td>False</td>\n",
              "      <td>False</td>\n",
              "      <td>False</td>\n",
              "      <td>False</td>\n",
              "      <td>False</td>\n",
              "      <td>False</td>\n",
              "    </tr>\n",
              "    <tr>\n",
              "      <th>20638</th>\n",
              "      <td>False</td>\n",
              "      <td>False</td>\n",
              "      <td>False</td>\n",
              "      <td>False</td>\n",
              "      <td>False</td>\n",
              "      <td>False</td>\n",
              "      <td>False</td>\n",
              "      <td>False</td>\n",
              "      <td>False</td>\n",
              "      <td>False</td>\n",
              "    </tr>\n",
              "    <tr>\n",
              "      <th>20639</th>\n",
              "      <td>False</td>\n",
              "      <td>False</td>\n",
              "      <td>False</td>\n",
              "      <td>False</td>\n",
              "      <td>False</td>\n",
              "      <td>False</td>\n",
              "      <td>False</td>\n",
              "      <td>False</td>\n",
              "      <td>False</td>\n",
              "      <td>False</td>\n",
              "    </tr>\n",
              "  </tbody>\n",
              "</table>\n",
              "<p>20640 rows × 10 columns</p>\n",
              "</div>\n",
              "      <button class=\"colab-df-convert\" onclick=\"convertToInteractive('df-5cbdde60-ac30-4048-949a-962ad6ccaa41')\"\n",
              "              title=\"Convert this dataframe to an interactive table.\"\n",
              "              style=\"display:none;\">\n",
              "        \n",
              "  <svg xmlns=\"http://www.w3.org/2000/svg\" height=\"24px\"viewBox=\"0 0 24 24\"\n",
              "       width=\"24px\">\n",
              "    <path d=\"M0 0h24v24H0V0z\" fill=\"none\"/>\n",
              "    <path d=\"M18.56 5.44l.94 2.06.94-2.06 2.06-.94-2.06-.94-.94-2.06-.94 2.06-2.06.94zm-11 1L8.5 8.5l.94-2.06 2.06-.94-2.06-.94L8.5 2.5l-.94 2.06-2.06.94zm10 10l.94 2.06.94-2.06 2.06-.94-2.06-.94-.94-2.06-.94 2.06-2.06.94z\"/><path d=\"M17.41 7.96l-1.37-1.37c-.4-.4-.92-.59-1.43-.59-.52 0-1.04.2-1.43.59L10.3 9.45l-7.72 7.72c-.78.78-.78 2.05 0 2.83L4 21.41c.39.39.9.59 1.41.59.51 0 1.02-.2 1.41-.59l7.78-7.78 2.81-2.81c.8-.78.8-2.07 0-2.86zM5.41 20L4 18.59l7.72-7.72 1.47 1.35L5.41 20z\"/>\n",
              "  </svg>\n",
              "      </button>\n",
              "      \n",
              "  <style>\n",
              "    .colab-df-container {\n",
              "      display:flex;\n",
              "      flex-wrap:wrap;\n",
              "      gap: 12px;\n",
              "    }\n",
              "\n",
              "    .colab-df-convert {\n",
              "      background-color: #E8F0FE;\n",
              "      border: none;\n",
              "      border-radius: 50%;\n",
              "      cursor: pointer;\n",
              "      display: none;\n",
              "      fill: #1967D2;\n",
              "      height: 32px;\n",
              "      padding: 0 0 0 0;\n",
              "      width: 32px;\n",
              "    }\n",
              "\n",
              "    .colab-df-convert:hover {\n",
              "      background-color: #E2EBFA;\n",
              "      box-shadow: 0px 1px 2px rgba(60, 64, 67, 0.3), 0px 1px 3px 1px rgba(60, 64, 67, 0.15);\n",
              "      fill: #174EA6;\n",
              "    }\n",
              "\n",
              "    [theme=dark] .colab-df-convert {\n",
              "      background-color: #3B4455;\n",
              "      fill: #D2E3FC;\n",
              "    }\n",
              "\n",
              "    [theme=dark] .colab-df-convert:hover {\n",
              "      background-color: #434B5C;\n",
              "      box-shadow: 0px 1px 3px 1px rgba(0, 0, 0, 0.15);\n",
              "      filter: drop-shadow(0px 1px 2px rgba(0, 0, 0, 0.3));\n",
              "      fill: #FFFFFF;\n",
              "    }\n",
              "  </style>\n",
              "\n",
              "      <script>\n",
              "        const buttonEl =\n",
              "          document.querySelector('#df-5cbdde60-ac30-4048-949a-962ad6ccaa41 button.colab-df-convert');\n",
              "        buttonEl.style.display =\n",
              "          google.colab.kernel.accessAllowed ? 'block' : 'none';\n",
              "\n",
              "        async function convertToInteractive(key) {\n",
              "          const element = document.querySelector('#df-5cbdde60-ac30-4048-949a-962ad6ccaa41');\n",
              "          const dataTable =\n",
              "            await google.colab.kernel.invokeFunction('convertToInteractive',\n",
              "                                                     [key], {});\n",
              "          if (!dataTable) return;\n",
              "\n",
              "          const docLinkHtml = 'Like what you see? Visit the ' +\n",
              "            '<a target=\"_blank\" href=https://colab.research.google.com/notebooks/data_table.ipynb>data table notebook</a>'\n",
              "            + ' to learn more about interactive tables.';\n",
              "          element.innerHTML = '';\n",
              "          dataTable['output_type'] = 'display_data';\n",
              "          await google.colab.output.renderOutput(dataTable, element);\n",
              "          const docLink = document.createElement('div');\n",
              "          docLink.innerHTML = docLinkHtml;\n",
              "          element.appendChild(docLink);\n",
              "        }\n",
              "      </script>\n",
              "    </div>\n",
              "  </div>\n",
              "  "
            ],
            "text/plain": [
              "       longitude  latitude  ...  median_house_value  ocean_proximity\n",
              "0          False     False  ...               False            False\n",
              "1          False     False  ...               False            False\n",
              "2          False     False  ...               False            False\n",
              "3          False     False  ...               False            False\n",
              "4          False     False  ...               False            False\n",
              "...          ...       ...  ...                 ...              ...\n",
              "20635      False     False  ...               False            False\n",
              "20636      False     False  ...               False            False\n",
              "20637      False     False  ...               False            False\n",
              "20638      False     False  ...               False            False\n",
              "20639      False     False  ...               False            False\n",
              "\n",
              "[20640 rows x 10 columns]"
            ]
          },
          "metadata": {},
          "execution_count": 24
        }
      ]
    },
    {
      "cell_type": "code",
      "source": [
        "# Apply sum function to detect which columns have missing elements\n",
        "df_housing.isnull().sum()"
      ],
      "metadata": {
        "id": "TL3sJQhcymMn",
        "colab": {
          "base_uri": "https://localhost:8080/"
        },
        "outputId": "40502886-eaa9-4525-af9f-5e6ab46c9d61"
      },
      "execution_count": 25,
      "outputs": [
        {
          "output_type": "execute_result",
          "data": {
            "text/plain": [
              "longitude               0\n",
              "latitude                0\n",
              "housing_median_age      0\n",
              "total_rooms             0\n",
              "total_bedrooms        207\n",
              "population              0\n",
              "households              0\n",
              "median_income           0\n",
              "median_house_value      0\n",
              "ocean_proximity         0\n",
              "dtype: int64"
            ]
          },
          "metadata": {},
          "execution_count": 25
        }
      ]
    },
    {
      "cell_type": "markdown",
      "source": [
        "Observe that the feature total_bedrooms has 207 NULL/empty values, these need to be dealt with before applying any model"
      ],
      "metadata": {
        "id": "zc5Ptn2EzQLG"
      }
    },
    {
      "cell_type": "code",
      "source": [
        "# Checking for the median of total_bedrooms column\n",
        "\n",
        "df_housing.total_bedrooms.median()"
      ],
      "metadata": {
        "id": "_x48FSd1iKVb",
        "colab": {
          "base_uri": "https://localhost:8080/"
        },
        "outputId": "e74c4c95-d23d-4ab2-ad4b-05459a34104a"
      },
      "execution_count": 26,
      "outputs": [
        {
          "output_type": "execute_result",
          "data": {
            "text/plain": [
              "435.0"
            ]
          },
          "metadata": {},
          "execution_count": 26
        }
      ]
    },
    {
      "cell_type": "code",
      "source": [
        "# Replacing the empty values with the median of that column is one of the common ways to deal with it\n",
        "\n",
        "df_housing.total_bedrooms=df_housing.total_bedrooms.fillna(df_housing.total_bedrooms.median())"
      ],
      "metadata": {
        "id": "EIPsEV67iOl6"
      },
      "execution_count": 27,
      "outputs": []
    },
    {
      "cell_type": "code",
      "source": [
        "# Sanity check to be sure whether the missing values are dealt with.\n",
        "\n",
        "df_housing.isnull().sum()"
      ],
      "metadata": {
        "id": "O9an7Qc_hHjC",
        "colab": {
          "base_uri": "https://localhost:8080/"
        },
        "outputId": "8349d1d2-1176-4809-8914-cbb4c137b7fb"
      },
      "execution_count": 28,
      "outputs": [
        {
          "output_type": "execute_result",
          "data": {
            "text/plain": [
              "longitude             0\n",
              "latitude              0\n",
              "housing_median_age    0\n",
              "total_rooms           0\n",
              "total_bedrooms        0\n",
              "population            0\n",
              "households            0\n",
              "median_income         0\n",
              "median_house_value    0\n",
              "ocean_proximity       0\n",
              "dtype: int64"
            ]
          },
          "metadata": {},
          "execution_count": 28
        }
      ]
    },
    {
      "cell_type": "markdown",
      "source": [
        "Dealing with Categorcial Features"
      ],
      "metadata": {
        "id": "gsqbFB0r1JrA"
      }
    },
    {
      "cell_type": "markdown",
      "source": [
        "Machine Learning models in general can only deal with numeric values as input, so to deal with categorical variables, we need to encode them into some numeric representation. One of the most commonly used methodology is **One Hot Encoding**."
      ],
      "metadata": {
        "id": "sxPG997y1RrH"
      }
    },
    {
      "cell_type": "markdown",
      "source": [
        "\n",
        "**Before Applying One Hot Encoding:**\n",
        "\n",
        "<table width=\"200px\">\n",
        "  <tr>\n",
        "    <th>Color</th>\n",
        "  </tr>\n",
        "  <tr>\n",
        "    <td>Red</td>\n",
        "  </tr>\n",
        "  <tr>\n",
        "    <td>Blue</td>\n",
        "  </tr>\n",
        "  <tr>\n",
        "    <td>Green</td>\n",
        "  </tr>\n",
        "  <tr>\n",
        "    <td>Red</td>\n",
        "  </tr>\n",
        "  \n",
        "</table>\n",
        "\n",
        "**After Applying One Hot Encoding:**\n",
        "<table width=\"400px\">\n",
        "  <tr>\n",
        "    <th>Color_Red</th>\n",
        "    <th>Color_Blue</th>\n",
        "    <th>Color_Green</th>\n",
        "  </tr>\n",
        "  <tr>\n",
        "    <td>1</td>\n",
        "    <td>0</td>\n",
        "    <td>0</td>\n",
        "    \n",
        "  </tr>\n",
        "  <tr>\n",
        "      <td>0</td>\n",
        "    <td>1</td>\n",
        "    <td>0</td>\n",
        "  </tr>\n",
        "  \n",
        "  <tr>\n",
        "     <td>0</td>\n",
        "    <td>0</td>\n",
        "    <td>1</td>\n",
        "  </tr>\n",
        "  <tr>\n",
        "     <td>1</td>\n",
        "    <td>0</td>\n",
        "    <td>0</td>\n",
        "  </tr>\n",
        "  \n",
        "</table>"
      ],
      "metadata": {
        "id": "PbuBIBdZ2qn2"
      }
    },
    {
      "cell_type": "code",
      "source": [
        "# Use pd.get_dummies() function to one hot encode the categorical variable \"ocean_proximity\"\n",
        "\n",
        "df_housing=pd.get_dummies(df_housing,columns=['ocean_proximity'])\n",
        "df_housing.head()"
      ],
      "metadata": {
        "id": "_WwX9p5Ldz-P",
        "colab": {
          "base_uri": "https://localhost:8080/",
          "height": 287
        },
        "outputId": "77e23dd2-3667-434b-e4af-83b6a84b6b46"
      },
      "execution_count": 29,
      "outputs": [
        {
          "output_type": "execute_result",
          "data": {
            "text/html": [
              "\n",
              "  <div id=\"df-7786d079-38fd-4580-a4bc-30c937b5b4ed\">\n",
              "    <div class=\"colab-df-container\">\n",
              "      <div>\n",
              "<style scoped>\n",
              "    .dataframe tbody tr th:only-of-type {\n",
              "        vertical-align: middle;\n",
              "    }\n",
              "\n",
              "    .dataframe tbody tr th {\n",
              "        vertical-align: top;\n",
              "    }\n",
              "\n",
              "    .dataframe thead th {\n",
              "        text-align: right;\n",
              "    }\n",
              "</style>\n",
              "<table border=\"1\" class=\"dataframe\">\n",
              "  <thead>\n",
              "    <tr style=\"text-align: right;\">\n",
              "      <th></th>\n",
              "      <th>longitude</th>\n",
              "      <th>latitude</th>\n",
              "      <th>housing_median_age</th>\n",
              "      <th>total_rooms</th>\n",
              "      <th>total_bedrooms</th>\n",
              "      <th>population</th>\n",
              "      <th>households</th>\n",
              "      <th>median_income</th>\n",
              "      <th>median_house_value</th>\n",
              "      <th>ocean_proximity_&lt;1H OCEAN</th>\n",
              "      <th>ocean_proximity_INLAND</th>\n",
              "      <th>ocean_proximity_ISLAND</th>\n",
              "      <th>ocean_proximity_NEAR BAY</th>\n",
              "      <th>ocean_proximity_NEAR OCEAN</th>\n",
              "    </tr>\n",
              "  </thead>\n",
              "  <tbody>\n",
              "    <tr>\n",
              "      <th>0</th>\n",
              "      <td>-122.23</td>\n",
              "      <td>37.88</td>\n",
              "      <td>41.0</td>\n",
              "      <td>880.0</td>\n",
              "      <td>129.0</td>\n",
              "      <td>322.0</td>\n",
              "      <td>126.0</td>\n",
              "      <td>8.3252</td>\n",
              "      <td>452600.0</td>\n",
              "      <td>0</td>\n",
              "      <td>0</td>\n",
              "      <td>0</td>\n",
              "      <td>1</td>\n",
              "      <td>0</td>\n",
              "    </tr>\n",
              "    <tr>\n",
              "      <th>1</th>\n",
              "      <td>-122.22</td>\n",
              "      <td>37.86</td>\n",
              "      <td>21.0</td>\n",
              "      <td>7099.0</td>\n",
              "      <td>1106.0</td>\n",
              "      <td>2401.0</td>\n",
              "      <td>1138.0</td>\n",
              "      <td>8.3014</td>\n",
              "      <td>358500.0</td>\n",
              "      <td>0</td>\n",
              "      <td>0</td>\n",
              "      <td>0</td>\n",
              "      <td>1</td>\n",
              "      <td>0</td>\n",
              "    </tr>\n",
              "    <tr>\n",
              "      <th>2</th>\n",
              "      <td>-122.24</td>\n",
              "      <td>37.85</td>\n",
              "      <td>52.0</td>\n",
              "      <td>1467.0</td>\n",
              "      <td>190.0</td>\n",
              "      <td>496.0</td>\n",
              "      <td>177.0</td>\n",
              "      <td>7.2574</td>\n",
              "      <td>352100.0</td>\n",
              "      <td>0</td>\n",
              "      <td>0</td>\n",
              "      <td>0</td>\n",
              "      <td>1</td>\n",
              "      <td>0</td>\n",
              "    </tr>\n",
              "    <tr>\n",
              "      <th>3</th>\n",
              "      <td>-122.25</td>\n",
              "      <td>37.85</td>\n",
              "      <td>52.0</td>\n",
              "      <td>1274.0</td>\n",
              "      <td>235.0</td>\n",
              "      <td>558.0</td>\n",
              "      <td>219.0</td>\n",
              "      <td>5.6431</td>\n",
              "      <td>341300.0</td>\n",
              "      <td>0</td>\n",
              "      <td>0</td>\n",
              "      <td>0</td>\n",
              "      <td>1</td>\n",
              "      <td>0</td>\n",
              "    </tr>\n",
              "    <tr>\n",
              "      <th>4</th>\n",
              "      <td>-122.25</td>\n",
              "      <td>37.85</td>\n",
              "      <td>52.0</td>\n",
              "      <td>1627.0</td>\n",
              "      <td>280.0</td>\n",
              "      <td>565.0</td>\n",
              "      <td>259.0</td>\n",
              "      <td>3.8462</td>\n",
              "      <td>342200.0</td>\n",
              "      <td>0</td>\n",
              "      <td>0</td>\n",
              "      <td>0</td>\n",
              "      <td>1</td>\n",
              "      <td>0</td>\n",
              "    </tr>\n",
              "  </tbody>\n",
              "</table>\n",
              "</div>\n",
              "      <button class=\"colab-df-convert\" onclick=\"convertToInteractive('df-7786d079-38fd-4580-a4bc-30c937b5b4ed')\"\n",
              "              title=\"Convert this dataframe to an interactive table.\"\n",
              "              style=\"display:none;\">\n",
              "        \n",
              "  <svg xmlns=\"http://www.w3.org/2000/svg\" height=\"24px\"viewBox=\"0 0 24 24\"\n",
              "       width=\"24px\">\n",
              "    <path d=\"M0 0h24v24H0V0z\" fill=\"none\"/>\n",
              "    <path d=\"M18.56 5.44l.94 2.06.94-2.06 2.06-.94-2.06-.94-.94-2.06-.94 2.06-2.06.94zm-11 1L8.5 8.5l.94-2.06 2.06-.94-2.06-.94L8.5 2.5l-.94 2.06-2.06.94zm10 10l.94 2.06.94-2.06 2.06-.94-2.06-.94-.94-2.06-.94 2.06-2.06.94z\"/><path d=\"M17.41 7.96l-1.37-1.37c-.4-.4-.92-.59-1.43-.59-.52 0-1.04.2-1.43.59L10.3 9.45l-7.72 7.72c-.78.78-.78 2.05 0 2.83L4 21.41c.39.39.9.59 1.41.59.51 0 1.02-.2 1.41-.59l7.78-7.78 2.81-2.81c.8-.78.8-2.07 0-2.86zM5.41 20L4 18.59l7.72-7.72 1.47 1.35L5.41 20z\"/>\n",
              "  </svg>\n",
              "      </button>\n",
              "      \n",
              "  <style>\n",
              "    .colab-df-container {\n",
              "      display:flex;\n",
              "      flex-wrap:wrap;\n",
              "      gap: 12px;\n",
              "    }\n",
              "\n",
              "    .colab-df-convert {\n",
              "      background-color: #E8F0FE;\n",
              "      border: none;\n",
              "      border-radius: 50%;\n",
              "      cursor: pointer;\n",
              "      display: none;\n",
              "      fill: #1967D2;\n",
              "      height: 32px;\n",
              "      padding: 0 0 0 0;\n",
              "      width: 32px;\n",
              "    }\n",
              "\n",
              "    .colab-df-convert:hover {\n",
              "      background-color: #E2EBFA;\n",
              "      box-shadow: 0px 1px 2px rgba(60, 64, 67, 0.3), 0px 1px 3px 1px rgba(60, 64, 67, 0.15);\n",
              "      fill: #174EA6;\n",
              "    }\n",
              "\n",
              "    [theme=dark] .colab-df-convert {\n",
              "      background-color: #3B4455;\n",
              "      fill: #D2E3FC;\n",
              "    }\n",
              "\n",
              "    [theme=dark] .colab-df-convert:hover {\n",
              "      background-color: #434B5C;\n",
              "      box-shadow: 0px 1px 3px 1px rgba(0, 0, 0, 0.15);\n",
              "      filter: drop-shadow(0px 1px 2px rgba(0, 0, 0, 0.3));\n",
              "      fill: #FFFFFF;\n",
              "    }\n",
              "  </style>\n",
              "\n",
              "      <script>\n",
              "        const buttonEl =\n",
              "          document.querySelector('#df-7786d079-38fd-4580-a4bc-30c937b5b4ed button.colab-df-convert');\n",
              "        buttonEl.style.display =\n",
              "          google.colab.kernel.accessAllowed ? 'block' : 'none';\n",
              "\n",
              "        async function convertToInteractive(key) {\n",
              "          const element = document.querySelector('#df-7786d079-38fd-4580-a4bc-30c937b5b4ed');\n",
              "          const dataTable =\n",
              "            await google.colab.kernel.invokeFunction('convertToInteractive',\n",
              "                                                     [key], {});\n",
              "          if (!dataTable) return;\n",
              "\n",
              "          const docLinkHtml = 'Like what you see? Visit the ' +\n",
              "            '<a target=\"_blank\" href=https://colab.research.google.com/notebooks/data_table.ipynb>data table notebook</a>'\n",
              "            + ' to learn more about interactive tables.';\n",
              "          element.innerHTML = '';\n",
              "          dataTable['output_type'] = 'display_data';\n",
              "          await google.colab.output.renderOutput(dataTable, element);\n",
              "          const docLink = document.createElement('div');\n",
              "          docLink.innerHTML = docLinkHtml;\n",
              "          element.appendChild(docLink);\n",
              "        }\n",
              "      </script>\n",
              "    </div>\n",
              "  </div>\n",
              "  "
            ],
            "text/plain": [
              "   longitude  latitude  ...  ocean_proximity_NEAR BAY  ocean_proximity_NEAR OCEAN\n",
              "0    -122.23     37.88  ...                         1                           0\n",
              "1    -122.22     37.86  ...                         1                           0\n",
              "2    -122.24     37.85  ...                         1                           0\n",
              "3    -122.25     37.85  ...                         1                           0\n",
              "4    -122.25     37.85  ...                         1                           0\n",
              "\n",
              "[5 rows x 14 columns]"
            ]
          },
          "metadata": {},
          "execution_count": 29
        }
      ]
    },
    {
      "cell_type": "markdown",
      "source": [
        "What scale to use?<br>\n",
        "For many regression problems the numerical range of values could lead to wild coefficients. For instance, the CA longitude values are all in a tiny range from [-122.2x to -122.2y] so the differences are only in the second decimal place! To mitigate such issues, one often scales the entires using some standard transformations (e.g., subtract mean, scale by std. deviation). Here we will put all entries in the interval [0,1] by subtracting the min and dividing by the range.\n"
      ],
      "metadata": {
        "id": "I8S3n1xjbNM8"
      }
    },
    {
      "cell_type": "markdown",
      "source": [
        "As it can be observed, the range of values the predictors can vary a lot,which can make it difficult to interpret the coefficients of the model. So its a good practice to Standardize the data between 0 and 1. For this we make use of of sklearn's MinMaxScaler<br>\n",
        "MinMax Scaling is achieved using the following formula:<br>\n",
        "<center> $\\frac{(X-X.min)}{(X.max-X.min)}$</center>\n",
        "where X is one of the predictors in the dataFrame\n"
      ],
      "metadata": {
        "id": "smgDZQPl4B1F"
      }
    },
    {
      "cell_type": "code",
      "source": [
        "from sklearn.preprocessing import MinMaxScaler"
      ],
      "metadata": {
        "id": "WY4mYJrM22bW"
      },
      "execution_count": 30,
      "outputs": []
    },
    {
      "cell_type": "code",
      "source": [
        "# Scale the dataset using MinMaxScaler,it returns a numpy ndarray\n",
        "# Convert it back to Pandas DataFrame, making it convinient to split it into predictors and response variables later\n",
        "\n",
        "df_housing_scaled=MinMaxScaler().fit_transform(df_housing)\n",
        "df_housing_scaled=pd.DataFrame(df_housing_scaled,columns=df_housing.columns)"
      ],
      "metadata": {
        "id": "eibrqYIO0LmB"
      },
      "execution_count": 31,
      "outputs": []
    },
    {
      "cell_type": "code",
      "source": [
        "df_housing_scaled.head()"
      ],
      "metadata": {
        "id": "BcxEVYUr0Le8",
        "colab": {
          "base_uri": "https://localhost:8080/",
          "height": 287
        },
        "outputId": "ba2735f6-14c0-423c-9655-a830a36d4097"
      },
      "execution_count": 32,
      "outputs": [
        {
          "output_type": "execute_result",
          "data": {
            "text/html": [
              "\n",
              "  <div id=\"df-d7f6709e-604f-4d8a-9b9c-643142060668\">\n",
              "    <div class=\"colab-df-container\">\n",
              "      <div>\n",
              "<style scoped>\n",
              "    .dataframe tbody tr th:only-of-type {\n",
              "        vertical-align: middle;\n",
              "    }\n",
              "\n",
              "    .dataframe tbody tr th {\n",
              "        vertical-align: top;\n",
              "    }\n",
              "\n",
              "    .dataframe thead th {\n",
              "        text-align: right;\n",
              "    }\n",
              "</style>\n",
              "<table border=\"1\" class=\"dataframe\">\n",
              "  <thead>\n",
              "    <tr style=\"text-align: right;\">\n",
              "      <th></th>\n",
              "      <th>longitude</th>\n",
              "      <th>latitude</th>\n",
              "      <th>housing_median_age</th>\n",
              "      <th>total_rooms</th>\n",
              "      <th>total_bedrooms</th>\n",
              "      <th>population</th>\n",
              "      <th>households</th>\n",
              "      <th>median_income</th>\n",
              "      <th>median_house_value</th>\n",
              "      <th>ocean_proximity_&lt;1H OCEAN</th>\n",
              "      <th>ocean_proximity_INLAND</th>\n",
              "      <th>ocean_proximity_ISLAND</th>\n",
              "      <th>ocean_proximity_NEAR BAY</th>\n",
              "      <th>ocean_proximity_NEAR OCEAN</th>\n",
              "    </tr>\n",
              "  </thead>\n",
              "  <tbody>\n",
              "    <tr>\n",
              "      <th>0</th>\n",
              "      <td>0.211155</td>\n",
              "      <td>0.567481</td>\n",
              "      <td>0.784314</td>\n",
              "      <td>0.022331</td>\n",
              "      <td>0.019863</td>\n",
              "      <td>0.008941</td>\n",
              "      <td>0.020556</td>\n",
              "      <td>0.539668</td>\n",
              "      <td>0.902266</td>\n",
              "      <td>0.0</td>\n",
              "      <td>0.0</td>\n",
              "      <td>0.0</td>\n",
              "      <td>1.0</td>\n",
              "      <td>0.0</td>\n",
              "    </tr>\n",
              "    <tr>\n",
              "      <th>1</th>\n",
              "      <td>0.212151</td>\n",
              "      <td>0.565356</td>\n",
              "      <td>0.392157</td>\n",
              "      <td>0.180503</td>\n",
              "      <td>0.171477</td>\n",
              "      <td>0.067210</td>\n",
              "      <td>0.186976</td>\n",
              "      <td>0.538027</td>\n",
              "      <td>0.708247</td>\n",
              "      <td>0.0</td>\n",
              "      <td>0.0</td>\n",
              "      <td>0.0</td>\n",
              "      <td>1.0</td>\n",
              "      <td>0.0</td>\n",
              "    </tr>\n",
              "    <tr>\n",
              "      <th>2</th>\n",
              "      <td>0.210159</td>\n",
              "      <td>0.564293</td>\n",
              "      <td>1.000000</td>\n",
              "      <td>0.037260</td>\n",
              "      <td>0.029330</td>\n",
              "      <td>0.013818</td>\n",
              "      <td>0.028943</td>\n",
              "      <td>0.466028</td>\n",
              "      <td>0.695051</td>\n",
              "      <td>0.0</td>\n",
              "      <td>0.0</td>\n",
              "      <td>0.0</td>\n",
              "      <td>1.0</td>\n",
              "      <td>0.0</td>\n",
              "    </tr>\n",
              "    <tr>\n",
              "      <th>3</th>\n",
              "      <td>0.209163</td>\n",
              "      <td>0.564293</td>\n",
              "      <td>1.000000</td>\n",
              "      <td>0.032352</td>\n",
              "      <td>0.036313</td>\n",
              "      <td>0.015555</td>\n",
              "      <td>0.035849</td>\n",
              "      <td>0.354699</td>\n",
              "      <td>0.672783</td>\n",
              "      <td>0.0</td>\n",
              "      <td>0.0</td>\n",
              "      <td>0.0</td>\n",
              "      <td>1.0</td>\n",
              "      <td>0.0</td>\n",
              "    </tr>\n",
              "    <tr>\n",
              "      <th>4</th>\n",
              "      <td>0.209163</td>\n",
              "      <td>0.564293</td>\n",
              "      <td>1.000000</td>\n",
              "      <td>0.041330</td>\n",
              "      <td>0.043296</td>\n",
              "      <td>0.015752</td>\n",
              "      <td>0.042427</td>\n",
              "      <td>0.230776</td>\n",
              "      <td>0.674638</td>\n",
              "      <td>0.0</td>\n",
              "      <td>0.0</td>\n",
              "      <td>0.0</td>\n",
              "      <td>1.0</td>\n",
              "      <td>0.0</td>\n",
              "    </tr>\n",
              "  </tbody>\n",
              "</table>\n",
              "</div>\n",
              "      <button class=\"colab-df-convert\" onclick=\"convertToInteractive('df-d7f6709e-604f-4d8a-9b9c-643142060668')\"\n",
              "              title=\"Convert this dataframe to an interactive table.\"\n",
              "              style=\"display:none;\">\n",
              "        \n",
              "  <svg xmlns=\"http://www.w3.org/2000/svg\" height=\"24px\"viewBox=\"0 0 24 24\"\n",
              "       width=\"24px\">\n",
              "    <path d=\"M0 0h24v24H0V0z\" fill=\"none\"/>\n",
              "    <path d=\"M18.56 5.44l.94 2.06.94-2.06 2.06-.94-2.06-.94-.94-2.06-.94 2.06-2.06.94zm-11 1L8.5 8.5l.94-2.06 2.06-.94-2.06-.94L8.5 2.5l-.94 2.06-2.06.94zm10 10l.94 2.06.94-2.06 2.06-.94-2.06-.94-.94-2.06-.94 2.06-2.06.94z\"/><path d=\"M17.41 7.96l-1.37-1.37c-.4-.4-.92-.59-1.43-.59-.52 0-1.04.2-1.43.59L10.3 9.45l-7.72 7.72c-.78.78-.78 2.05 0 2.83L4 21.41c.39.39.9.59 1.41.59.51 0 1.02-.2 1.41-.59l7.78-7.78 2.81-2.81c.8-.78.8-2.07 0-2.86zM5.41 20L4 18.59l7.72-7.72 1.47 1.35L5.41 20z\"/>\n",
              "  </svg>\n",
              "      </button>\n",
              "      \n",
              "  <style>\n",
              "    .colab-df-container {\n",
              "      display:flex;\n",
              "      flex-wrap:wrap;\n",
              "      gap: 12px;\n",
              "    }\n",
              "\n",
              "    .colab-df-convert {\n",
              "      background-color: #E8F0FE;\n",
              "      border: none;\n",
              "      border-radius: 50%;\n",
              "      cursor: pointer;\n",
              "      display: none;\n",
              "      fill: #1967D2;\n",
              "      height: 32px;\n",
              "      padding: 0 0 0 0;\n",
              "      width: 32px;\n",
              "    }\n",
              "\n",
              "    .colab-df-convert:hover {\n",
              "      background-color: #E2EBFA;\n",
              "      box-shadow: 0px 1px 2px rgba(60, 64, 67, 0.3), 0px 1px 3px 1px rgba(60, 64, 67, 0.15);\n",
              "      fill: #174EA6;\n",
              "    }\n",
              "\n",
              "    [theme=dark] .colab-df-convert {\n",
              "      background-color: #3B4455;\n",
              "      fill: #D2E3FC;\n",
              "    }\n",
              "\n",
              "    [theme=dark] .colab-df-convert:hover {\n",
              "      background-color: #434B5C;\n",
              "      box-shadow: 0px 1px 3px 1px rgba(0, 0, 0, 0.15);\n",
              "      filter: drop-shadow(0px 1px 2px rgba(0, 0, 0, 0.3));\n",
              "      fill: #FFFFFF;\n",
              "    }\n",
              "  </style>\n",
              "\n",
              "      <script>\n",
              "        const buttonEl =\n",
              "          document.querySelector('#df-d7f6709e-604f-4d8a-9b9c-643142060668 button.colab-df-convert');\n",
              "        buttonEl.style.display =\n",
              "          google.colab.kernel.accessAllowed ? 'block' : 'none';\n",
              "\n",
              "        async function convertToInteractive(key) {\n",
              "          const element = document.querySelector('#df-d7f6709e-604f-4d8a-9b9c-643142060668');\n",
              "          const dataTable =\n",
              "            await google.colab.kernel.invokeFunction('convertToInteractive',\n",
              "                                                     [key], {});\n",
              "          if (!dataTable) return;\n",
              "\n",
              "          const docLinkHtml = 'Like what you see? Visit the ' +\n",
              "            '<a target=\"_blank\" href=https://colab.research.google.com/notebooks/data_table.ipynb>data table notebook</a>'\n",
              "            + ' to learn more about interactive tables.';\n",
              "          element.innerHTML = '';\n",
              "          dataTable['output_type'] = 'display_data';\n",
              "          await google.colab.output.renderOutput(dataTable, element);\n",
              "          const docLink = document.createElement('div');\n",
              "          docLink.innerHTML = docLinkHtml;\n",
              "          element.appendChild(docLink);\n",
              "        }\n",
              "      </script>\n",
              "    </div>\n",
              "  </div>\n",
              "  "
            ],
            "text/plain": [
              "   longitude  latitude  ...  ocean_proximity_NEAR BAY  ocean_proximity_NEAR OCEAN\n",
              "0   0.211155  0.567481  ...                       1.0                         0.0\n",
              "1   0.212151  0.565356  ...                       1.0                         0.0\n",
              "2   0.210159  0.564293  ...                       1.0                         0.0\n",
              "3   0.209163  0.564293  ...                       1.0                         0.0\n",
              "4   0.209163  0.564293  ...                       1.0                         0.0\n",
              "\n",
              "[5 rows x 14 columns]"
            ]
          },
          "metadata": {},
          "execution_count": 32
        }
      ]
    },
    {
      "cell_type": "markdown",
      "source": [
        "<h3>CODING BREAKOUT</h3>"
      ],
      "metadata": {
        "id": "ptyvZK8v3A8K"
      }
    },
    {
      "cell_type": "markdown",
      "source": [
        "df_housing_scaled contains the Pandas DataFrame for California Housing Dataset, you need to seperately store the predictor variables and response variable in X and y respectively."
      ],
      "metadata": {
        "id": "awsmH9ng3zjW"
      }
    },
    {
      "cell_type": "code",
      "source": [
        "# your code here\n",
        "\n",
        "# Store the predictor variables in X\n",
        "X_housing=df_housing_scaled.drop(columns=['median_house_value'])\n",
        "\n",
        "# median_house_value is the response variable\n",
        "y_housing=df_housing_scaled['median_house_value']"
      ],
      "metadata": {
        "id": "DBCAJk4mfFyK"
      },
      "execution_count": 33,
      "outputs": []
    },
    {
      "cell_type": "markdown",
      "source": [
        "Split the Data into train and test set, with test_size=20% and random_state=2022 to reproduce the results"
      ],
      "metadata": {
        "id": "356L27gg4jGE"
      }
    },
    {
      "cell_type": "code",
      "source": [
        "# your code here\n",
        "\n",
        "#Splitting the data into train-test sets with 80% training data and 20% testing data. \n",
        "#Set random_state as 2022\n",
        "X_train, X_test, y_train, y_test = train_test_split(X_housing, y_housing, test_size=0.2, random_state=2022)"
      ],
      "metadata": {
        "id": "xbeK38SIfFkM"
      },
      "execution_count": 34,
      "outputs": []
    },
    {
      "cell_type": "markdown",
      "source": [
        "Print the shapes of X_train, y_train, X_test and y_test"
      ],
      "metadata": {
        "id": "1nGUfpHT46vt"
      }
    },
    {
      "cell_type": "code",
      "source": [
        "# your code here\n",
        "\n",
        "# Print the shape of training and test data\n",
        "\n",
        "print(\"X_train shape {} \".format(X_train.shape))\n",
        "print(\"X_test shape {} \".format(X_test.shape))\n",
        "print(\"y_train shape {} \".format(y_train.shape))\n",
        "print(\"y_test shape {} \".format(y_test.shape))"
      ],
      "metadata": {
        "id": "-6_pa3h7jm9x",
        "colab": {
          "base_uri": "https://localhost:8080/"
        },
        "outputId": "a12f05ec-5a3a-4b3f-b9b0-def5bb97c019"
      },
      "execution_count": 35,
      "outputs": [
        {
          "output_type": "stream",
          "name": "stdout",
          "text": [
            "X_train shape (16512, 13) \n",
            "X_test shape (4128, 13) \n",
            "y_train shape (16512,) \n",
            "y_test shape (4128,) \n"
          ]
        }
      ]
    },
    {
      "cell_type": "markdown",
      "source": [
        "Fit the Linear Regression Model on Training Data"
      ],
      "metadata": {
        "id": "xZj0IDc95Ee1"
      }
    },
    {
      "cell_type": "code",
      "source": [
        "# your code here\n",
        "\n",
        "# Create a LinearRegression object and fit the model\n",
        "lr_housing = LinearRegression().fit(X_train, y_train)"
      ],
      "metadata": {
        "id": "iaqXb3Rdjmw6"
      },
      "execution_count": 36,
      "outputs": []
    },
    {
      "cell_type": "markdown",
      "source": [
        "Print the Coefficients of the model"
      ],
      "metadata": {
        "id": "kOsxID0Tq4y7"
      }
    },
    {
      "cell_type": "code",
      "source": [
        "# your code here\n",
        "\n",
        "t = PrettyTable(['Predictors', 'Coefficients'])\n",
        "t.add_row(['Intercept',lr_housing.intercept_])\n",
        "\n",
        "for i in range(len(X_housing.columns)):\n",
        "    t.add_row([X_housing.columns[i],lr_housing.coef_[i]])\n",
        "print(t)"
      ],
      "metadata": {
        "id": "WTRmmLQJq2tl",
        "colab": {
          "base_uri": "https://localhost:8080/"
        },
        "outputId": "c625c674-3c4f-4068-fdd0-6d5b4ae8f7b8",
        "collapsed": true
      },
      "execution_count": 37,
      "outputs": [
        {
          "output_type": "stream",
          "name": "stdout",
          "text": [
            "+----------------------------+-----------------------+\n",
            "|         Predictors         |      Coefficients     |\n",
            "+----------------------------+-----------------------+\n",
            "|         Intercept          |   0.5449917502687743  |\n",
            "|         longitude          |  -0.5535319394080259  |\n",
            "|          latitude          |  -0.4957426309627205  |\n",
            "|     housing_median_age     |  0.10837715268090686  |\n",
            "|        total_rooms         |  -0.3541571565243238  |\n",
            "|       total_bedrooms       |   0.919123140283361   |\n",
            "|         population         |  -2.9480936150460186  |\n",
            "|         households         |   1.0062284899286627  |\n",
            "|       median_income        |   1.1528487692965026  |\n",
            "| ocean_proximity_<1H OCEAN  | -0.041459303826974825 |\n",
            "|   ocean_proximity_INLAND   |  -0.12308333701714219 |\n",
            "|   ocean_proximity_ISLAND   |  0.24592682367066593  |\n",
            "|  ocean_proximity_NEAR BAY  |  -0.04890538669712555 |\n",
            "| ocean_proximity_NEAR OCEAN | -0.032478796129426724 |\n",
            "+----------------------------+-----------------------+\n"
          ]
        }
      ]
    },
    {
      "cell_type": "markdown",
      "source": [
        "Compute R<sup>2</sup> for training and test set"
      ],
      "metadata": {
        "id": "yDWDEtI46Sng"
      }
    },
    {
      "cell_type": "code",
      "source": [
        "# your code here\n",
        "\n",
        "r2_test = r2_score(y_test, lr_housing.predict(X_test))\n",
        "r2_train = r2_score(y_train, lr_housing.predict(X_train))\n",
        "print(\"Train R2 is {}, while test R^2 is {}\".format(r2_train, r2_test))"
      ],
      "metadata": {
        "id": "XEByTd3XkSid",
        "colab": {
          "base_uri": "https://localhost:8080/"
        },
        "outputId": "2b80a0a3-bbb9-48b4-9fed-a3d3bda63a22"
      },
      "execution_count": 38,
      "outputs": [
        {
          "output_type": "stream",
          "name": "stdout",
          "text": [
            "Train R2 is 0.645168202441939, while test R^2 is 0.6461203882409561\n"
          ]
        }
      ]
    },
    {
      "cell_type": "markdown",
      "source": [
        "**Breakout Ends here**"
      ],
      "metadata": {
        "id": "PojserE38ZAk"
      }
    },
    {
      "cell_type": "markdown",
      "source": [
        "**Things to Remember before fitting a Model**<br>\n",
        "\n",
        "\n",
        "1.   Always check for NULL values in the dataset, these empty values cause issues when fitting a model and need to be dealt with before hand. Usual approach to deal with numeric values is to replace the the NULL value with Mean/Median of the column, whereas for categorical data, the simplest approach is to eliminate the entire corrosponding row.<br> **Note:** There are multiple approaches to deal with NULL values and is not limited to the approaches mentioned, it depends on various factors such as task to be solved, availability of data etc. \n",
        "2.   Check for Categorical variables in the dataset, if present, deal with them using techniques such as One Hot Encoding. Remember sometimes categories can be Numbers such as Category 1,2,3 etc. We should treat them as categories and deal with them accordingly.\n",
        "3. Its also a good practice to Scale/Normalize your predictors especially when there is lot of variation between variables. Some standard approaches to scale your predictors are MinMaxScaling, StandardScalar etc.\n",
        "\n",
        "\n"
      ],
      "metadata": {
        "id": "rxbcINucoN0E"
      }
    },
    {
      "cell_type": "markdown",
      "metadata": {
        "id": "I7g78BarCyTb"
      },
      "source": [
        "## D: Model Confidence\n",
        "\n",
        "We'll sample 20 points from the data set. We do this by sampling 20 indices, index into X and y, and then fit on the sample"
      ]
    },
    {
      "cell_type": "code",
      "metadata": {
        "id": "1ajLCrOWCyTb",
        "colab": {
          "base_uri": "https://localhost:8080/"
        },
        "outputId": "6622495d-9d41-414d-b7d7-e03eec279045"
      },
      "source": [
        "sample_indices = np.random.choice(range(100), size=20, replace=False)\n",
        "sample_indices"
      ],
      "execution_count": 39,
      "outputs": [
        {
          "output_type": "execute_result",
          "data": {
            "text/plain": [
              "array([33, 86, 16, 39, 80, 18, 68, 53, 93, 82, 85, 43, 46, 30, 89, 77, 75,\n",
              "       71, 97, 15])"
            ]
          },
          "metadata": {},
          "execution_count": 39
        }
      ]
    },
    {
      "cell_type": "code",
      "source": [
        "#code adapted from http://tillbergmann.com/blog/python-gradient-descent.html\n",
        "X, y, coef = make_regression(n_samples = 100, \n",
        "                       n_features=1, \n",
        "                       noise=20,\n",
        "                       random_state=2017,\n",
        "                       bias=0.0,\n",
        "                       coef=True)"
      ],
      "metadata": {
        "id": "okGg2AREy_Dp"
      },
      "execution_count": 40,
      "outputs": []
    },
    {
      "cell_type": "markdown",
      "metadata": {
        "id": "4qjIde5_CyTb"
      },
      "source": [
        "We create a sample by using the sample indices:"
      ]
    },
    {
      "cell_type": "code",
      "metadata": {
        "id": "A3fp5XwTCyTc"
      },
      "source": [
        "Xsample = X[sample_indices]\n",
        "ysample = y[sample_indices]"
      ],
      "execution_count": 41,
      "outputs": []
    },
    {
      "cell_type": "markdown",
      "metadata": {
        "id": "lE3G5P4iCyTc"
      },
      "source": [
        "**Find the $R^2$ score of a fit to this sample, on this sample**"
      ]
    },
    {
      "cell_type": "code",
      "metadata": {
        "id": "BJ8M1Da1CyTc",
        "colab": {
          "base_uri": "https://localhost:8080/"
        },
        "outputId": "dc603834-b0fd-44a1-c176-6c63b31a1fdd"
      },
      "source": [
        "# your code here\n",
        "lr_s = LinearRegression().fit(Xsample, ysample)\n",
        "lr_s.score(Xsample, ysample)"
      ],
      "execution_count": 42,
      "outputs": [
        {
          "output_type": "execute_result",
          "data": {
            "text/plain": [
              "0.9643050672578451"
            ]
          },
          "metadata": {},
          "execution_count": 42
        }
      ]
    },
    {
      "cell_type": "markdown",
      "metadata": {
        "id": "JKo99KksCyTd"
      },
      "source": [
        "Lets check the sensitivity of our prediction to our sample. We'll do this 1000 times..that is we'll sample a new set of 20 points, "
      ]
    },
    {
      "cell_type": "code",
      "metadata": {
        "id": "SyD960zACyTe",
        "colab": {
          "base_uri": "https://localhost:8080/",
          "height": 282
        },
        "outputId": "e82af097-2e60-4659-9e6d-b135f1be81b2"
      },
      "source": [
        "scores = []\n",
        "models=[]\n",
        "for i in range(1000):\n",
        "    sample_indices = np.random.choice(range(100), size=20, replace=False)\n",
        "    Xsample = X[sample_indices]\n",
        "    ysample = y[sample_indices]\n",
        "    m = LinearRegression().fit(Xsample, ysample)\n",
        "    models.append(m)\n",
        "    scores.append(m.score(Xsample, ysample))\n",
        "plt.hist(scores,  bins=np.linspace(0.7, 1, 30))\n",
        "plt.xlim(0.7,1)"
      ],
      "execution_count": 43,
      "outputs": [
        {
          "output_type": "execute_result",
          "data": {
            "text/plain": [
              "(0.7, 1.0)"
            ]
          },
          "metadata": {},
          "execution_count": 43
        },
        {
          "output_type": "display_data",
          "data": {
            "image/png": "[encoded data removed]",
            "text/plain": [
              "<Figure size 432x288 with 1 Axes>"
            ]
          },
          "metadata": {
            "needs_background": "light"
          }
        }
      ]
    },
    {
      "cell_type": "markdown",
      "metadata": {
        "id": "vAqEUbtvCyTe"
      },
      "source": [
        "Let us check the slope and intercepts fitted on the different samples"
      ]
    },
    {
      "cell_type": "code",
      "metadata": {
        "id": "xMn-JQLkCyTe",
        "colab": {
          "base_uri": "https://localhost:8080/",
          "height": 282
        },
        "outputId": "56532ac9-f8cc-458b-b5d3-3b9fe0544769"
      },
      "source": [
        "plt.hist([models[i].coef_[0] for i in range(1000)], bins=10);\n",
        "plt.xlim([60, 100])"
      ],
      "execution_count": 44,
      "outputs": [
        {
          "output_type": "execute_result",
          "data": {
            "text/plain": [
              "(60.0, 100.0)"
            ]
          },
          "metadata": {},
          "execution_count": 44
        },
        {
          "output_type": "display_data",
          "data": {
            "image/png": "[encoded data removed]",
            "text/plain": [
              "<Figure size 432x288 with 1 Axes>"
            ]
          },
          "metadata": {
            "needs_background": "light"
          }
        }
      ]
    },
    {
      "cell_type": "code",
      "metadata": {
        "id": "teZnVAyICyTf",
        "colab": {
          "base_uri": "https://localhost:8080/",
          "height": 282
        },
        "outputId": "b649d830-065c-4fbc-9eac-229b1a779b17"
      },
      "source": [
        "plt.hist([models[i].intercept_ for i in range(100)], bins=10);\n",
        "plt.xlim([-15, 10])"
      ],
      "execution_count": 45,
      "outputs": [
        {
          "output_type": "execute_result",
          "data": {
            "text/plain": [
              "(-15.0, 10.0)"
            ]
          },
          "metadata": {},
          "execution_count": 45
        },
        {
          "output_type": "display_data",
          "data": {
            "image/png": "[encoded data removed]",
            "text/plain": [
              "<Figure size 432x288 with 1 Axes>"
            ]
          },
          "metadata": {
            "needs_background": "light"
          }
        }
      ]
    },
    {
      "cell_type": "code",
      "source": [
        ""
      ],
      "metadata": {
        "id": "2CoX-EhL7_iy"
      },
      "execution_count": 45,
      "outputs": []
    }
  ]
}